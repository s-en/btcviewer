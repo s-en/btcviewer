{
 "cells": [
  {
   "cell_type": "code",
   "execution_count": 1,
   "metadata": {},
   "outputs": [],
   "source": [
    "from __future__ import absolute_import\n",
    "from __future__ import division\n",
    "from __future__ import print_function\n",
    "\n",
    "import abc\n",
    "import tensorflow as tf\n",
    "import numpy as np\n",
    "\n",
    "from tf_agents.environments import py_environment\n",
    "from tf_agents.environments import tf_environment\n",
    "from tf_agents.environments import tf_py_environment\n",
    "from tf_agents.environments import utils\n",
    "from tf_agents.specs import array_spec\n",
    "from tf_agents.environments import wrappers\n",
    "from tf_agents.environments import suite_gym\n",
    "from tf_agents.trajectories import time_step as ts\n",
    "from tf_agents.trajectories import trajectory\n",
    "from tf_agents.utils import common\n",
    "\n",
    "from tf_agents.networks import q_network\n",
    "from tf_agents.agents.dqn import dqn_agent\n",
    "from tf_agents.policies import random_tf_policy\n",
    "from tf_agents.replay_buffers import tf_uniform_replay_buffer\n",
    "\n",
    "import matplotlib\n",
    "import matplotlib.pyplot as plt\n",
    "\n",
    "tf.compat.v1.enable_v2_behavior()"
   ]
  },
  {
   "cell_type": "code",
   "execution_count": 2,
   "metadata": {},
   "outputs": [],
   "source": [
    "class CardGameEnv(py_environment.PyEnvironment):\n",
    "\n",
    "  def __init__(self):\n",
    "    self._action_spec = array_spec.BoundedArraySpec(\n",
    "        shape=(), dtype=np.int32, minimum=0, maximum=1, name='action')\n",
    "    self._observation_spec = array_spec.BoundedArraySpec(\n",
    "        shape=(1,), dtype=np.int32, minimum=0, name='observation')\n",
    "    self._state = 0\n",
    "    self._episode_ended = False\n",
    "\n",
    "  def action_spec(self):\n",
    "    return self._action_spec\n",
    "\n",
    "  def observation_spec(self):\n",
    "    return self._observation_spec\n",
    "\n",
    "  def _reset(self):\n",
    "    self._state = 0\n",
    "    self._episode_ended = False\n",
    "    return ts.restart(np.array([self._state], dtype=np.int32))\n",
    "\n",
    "  def _step(self, action):\n",
    "\n",
    "    if self._episode_ended:\n",
    "      # The last action ended the episode. Ignore the current action and start\n",
    "      # a new episode.\n",
    "      return self.reset()\n",
    "\n",
    "    # Make sure episodes don't go on forever.\n",
    "    if action == 1:\n",
    "      self._episode_ended = True\n",
    "    elif action == 0:\n",
    "      new_card = np.random.randint(1, 11)\n",
    "      self._state += new_card\n",
    "    else:\n",
    "      raise ValueError('`action` should be 0 or 1.')\n",
    "\n",
    "    if self._episode_ended or self._state >= 21:\n",
    "      reward = self._state - 21 if self._state <= 21 else -21\n",
    "      return ts.termination(np.array([self._state], dtype=np.int32), reward)\n",
    "    else:\n",
    "      return ts.transition(\n",
    "          np.array([self._state], dtype=np.int32), reward=0.0, discount=1.0)"
   ]
  },
  {
   "cell_type": "code",
   "execution_count": 3,
   "metadata": {},
   "outputs": [],
   "source": [
    "environment = CardGameEnv()\n",
    "utils.validate_py_environment(environment, episodes=5)"
   ]
  },
  {
   "cell_type": "code",
   "execution_count": 4,
   "metadata": {},
   "outputs": [
    {
     "output_type": "stream",
     "name": "stdout",
     "text": [
      "TimeStep(step_type=array(0), reward=array(0., dtype=float32), discount=array(1., dtype=float32), observation=array([0]))\nTimeStep(step_type=array(1), reward=array(0., dtype=float32), discount=array(1., dtype=float32), observation=array([4]))\nTimeStep(step_type=array(1), reward=array(0., dtype=float32), discount=array(1., dtype=float32), observation=array([12]))\nTimeStep(step_type=array(1), reward=array(0., dtype=float32), discount=array(1., dtype=float32), observation=array([14]))\nTimeStep(step_type=array(2), reward=array(-7., dtype=float32), discount=array(0., dtype=float32), observation=array([14]))\nFinal Reward =  -7.0\n"
     ]
    }
   ],
   "source": [
    "get_new_card_action = np.array(0, dtype=np.int32)\n",
    "end_round_action = np.array(1, dtype=np.int32)\n",
    "\n",
    "environment = CardGameEnv()\n",
    "time_step = environment.reset()\n",
    "print(time_step)\n",
    "cumulative_reward = time_step.reward\n",
    "\n",
    "for _ in range(3):\n",
    "  time_step = environment.step(get_new_card_action)\n",
    "  print(time_step)\n",
    "  cumulative_reward += time_step.reward\n",
    "\n",
    "time_step = environment.step(end_round_action)\n",
    "print(time_step)\n",
    "cumulative_reward += time_step.reward\n",
    "print('Final Reward = ', cumulative_reward)"
   ]
  },
  {
   "cell_type": "code",
   "execution_count": 5,
   "metadata": {},
   "outputs": [],
   "source": [
    "import sqlite3\n",
    "from datetime import datetime\n",
    "conn = sqlite3.connect('dblogs/20201114.db')\n",
    "c = conn.cursor()"
   ]
  },
  {
   "cell_type": "code",
   "execution_count": 6,
   "metadata": {},
   "outputs": [],
   "source": [
    "def get(exchange, start, end):\n",
    "        sql = f'SELECT * FROM btcjpy where exchange = \"{exchange}\" AND unixtime >= {start} AND unixtime < {end} order by unixtime desc'\n",
    "\n",
    "        resp = []\n",
    "        for row in c.execute(sql):\n",
    "            print(row)\n",
    "            asks = []\n",
    "            bids = []\n",
    "            for i in range(1, 1):\n",
    "                asks.append([row[f'ask{i}'], row[f'asksize{i}']])\n",
    "                bids.append([row[f'bid{i}'], row[f'bidsize{i}']])\n",
    "                resp.append({\n",
    "                    'timestamp': row['unixtime'],\n",
    "                    'asks': asks,\n",
    "                    'bids': bids\n",
    "                })\n",
    "        return resp"
   ]
  },
  {
   "cell_type": "code",
   "execution_count": 7,
   "metadata": {},
   "outputs": [],
   "source": [
    "from db import DB"
   ]
  },
  {
   "cell_type": "code",
   "execution_count": 8,
   "metadata": {},
   "outputs": [],
   "source": [
    "mydb = DB(20201114, 4)\n",
    "EXC = ['bitflyer', 'liquid', 'zaif', 'coincheck']"
   ]
  },
  {
   "cell_type": "code",
   "execution_count": 9,
   "metadata": {},
   "outputs": [],
   "source": [
    "baseTime = datetime(2020, 11, 14, 0, 0, 0).timestamp()"
   ]
  },
  {
   "cell_type": "code",
   "execution_count": 10,
   "metadata": {},
   "outputs": [],
   "source": [
    "amounts = {}\n",
    "for ex in EXC:\n",
    "    amounts[ex] = {\n",
    "        'asks': [],\n",
    "        'bids': []\n",
    "    }\n",
    "    for type in ['asks', 'bids']:\n",
    "        curTime = baseTime\n",
    "        while(curTime < baseTime + 60*60):\n",
    "            res = mydb.get(ex, curTime, curTime + 10)\n",
    "            start = 0\n",
    "            min = 100000000\n",
    "            maxv = 0\n",
    "            for row in res:\n",
    "                val = row[type][0][0]\n",
    "                if start == 0:\n",
    "                    start = val\n",
    "                end = val\n",
    "                if val < min:\n",
    "                    min = val\n",
    "                if val > maxv:\n",
    "                    maxv = val\n",
    "            curTime += 10\n",
    "            amounts[ex][type].append({\n",
    "                'timestamp': curTime,\n",
    "                'start': start,\n",
    "                'end': end,\n",
    "                'min': min,\n",
    "                'max': maxv\n",
    "            })"
   ]
  },
  {
   "cell_type": "code",
   "execution_count": 11,
   "metadata": {},
   "outputs": [],
   "source": [
    "def ml(func, array):\n",
    "    return list(map(func, array))"
   ]
  },
  {
   "cell_type": "code",
   "execution_count": 12,
   "metadata": {},
   "outputs": [
    {
     "output_type": "execute_result",
     "data": {
      "text/plain": [
       "                 time   bitflyer     liquid       zaif  coincheck\n",
       "0 2020-11-14 00:00:10  1701582.0  1700479.0  1702000.0  1701256.0\n",
       "1 2020-11-14 00:00:20  1702164.0  1701093.0  1702265.0  1702099.0\n",
       "2 2020-11-14 00:00:30  1702200.0  1701861.0  1702610.0  1702175.0\n",
       "3 2020-11-14 00:00:40  1701871.0  1700969.0  1702360.0  1702127.0\n",
       "4 2020-11-14 00:00:50  1702197.0  1701748.0  1702800.0  1702023.0"
      ],
      "text/html": "<div>\n<style scoped>\n    .dataframe tbody tr th:only-of-type {\n        vertical-align: middle;\n    }\n\n    .dataframe tbody tr th {\n        vertical-align: top;\n    }\n\n    .dataframe thead th {\n        text-align: right;\n    }\n</style>\n<table border=\"1\" class=\"dataframe\">\n  <thead>\n    <tr style=\"text-align: right;\">\n      <th></th>\n      <th>time</th>\n      <th>bitflyer</th>\n      <th>liquid</th>\n      <th>zaif</th>\n      <th>coincheck</th>\n    </tr>\n  </thead>\n  <tbody>\n    <tr>\n      <th>0</th>\n      <td>2020-11-14 00:00:10</td>\n      <td>1701582.0</td>\n      <td>1700479.0</td>\n      <td>1702000.0</td>\n      <td>1701256.0</td>\n    </tr>\n    <tr>\n      <th>1</th>\n      <td>2020-11-14 00:00:20</td>\n      <td>1702164.0</td>\n      <td>1701093.0</td>\n      <td>1702265.0</td>\n      <td>1702099.0</td>\n    </tr>\n    <tr>\n      <th>2</th>\n      <td>2020-11-14 00:00:30</td>\n      <td>1702200.0</td>\n      <td>1701861.0</td>\n      <td>1702610.0</td>\n      <td>1702175.0</td>\n    </tr>\n    <tr>\n      <th>3</th>\n      <td>2020-11-14 00:00:40</td>\n      <td>1701871.0</td>\n      <td>1700969.0</td>\n      <td>1702360.0</td>\n      <td>1702127.0</td>\n    </tr>\n    <tr>\n      <th>4</th>\n      <td>2020-11-14 00:00:50</td>\n      <td>1702197.0</td>\n      <td>1701748.0</td>\n      <td>1702800.0</td>\n      <td>1702023.0</td>\n    </tr>\n  </tbody>\n</table>\n</div>"
     },
     "metadata": {},
     "execution_count": 12
    }
   ],
   "source": [
    "import pandas as pd\n",
    "head = next(iter(amounts))\n",
    "prices = pd.DataFrame({\n",
    "    'time': ml(lambda a:datetime.fromtimestamp(a['timestamp']), amounts[head]['asks'])\n",
    "})\n",
    "for ex in EXC:\n",
    "    prices[ex] = ml(lambda a:a['start'], amounts[ex]['asks'])\n",
    "prices.head()"
   ]
  },
  {
   "cell_type": "code",
   "execution_count": 13,
   "metadata": {},
   "outputs": [
    {
     "output_type": "execute_result",
     "data": {
      "text/plain": [
       "<matplotlib.axes._subplots.AxesSubplot at 0x1a3bd5aa970>"
      ]
     },
     "metadata": {},
     "execution_count": 13
    },
    {
     "output_type": "display_data",
     "data": {
      "text/plain": "<Figure size 432x288 with 1 Axes>",
      "image/svg+xml": "<?xml version=\"1.0\" encoding=\"utf-8\" standalone=\"no\"?>\r\n<!DOCTYPE svg PUBLIC \"-//W3C//DTD SVG 1.1//EN\"\r\n  \"http://www.w3.org/Graphics/SVG/1.1/DTD/svg11.dtd\">\r\n<!-- Created with matplotlib (https://matplotlib.org/) -->\r\n<svg height=\"272.794688pt\" version=\"1.1\" viewBox=\"0 0 405.6 272.794688\" width=\"405.6pt\" xmlns=\"http://www.w3.org/2000/svg\" xmlns:xlink=\"http://www.w3.org/1999/xlink\">\r\n <defs>\r\n  <style type=\"text/css\">\r\n*{stroke-linecap:butt;stroke-linejoin:round;}\r\n  </style>\r\n </defs>\r\n <g id=\"figure_1\">\r\n  <g id=\"patch_1\">\r\n   <path d=\"M 0 272.794688 \r\nL 405.6 272.794688 \r\nL 405.6 0 \r\nL 0 0 \r\nz\r\n\" style=\"fill:none;\"/>\r\n  </g>\r\n  <g id=\"axes_1\">\r\n   <g id=\"patch_2\">\r\n    <path d=\"M 49.190625 235.238438 \r\nL 383.990625 235.238438 \r\nL 383.990625 17.798438 \r\nL 49.190625 17.798438 \r\nz\r\n\" style=\"fill:#ffffff;\"/>\r\n   </g>\r\n   <g id=\"matplotlib.axis_1\">\r\n    <g id=\"xtick_1\">\r\n     <g id=\"line2d_1\">\r\n      <defs>\r\n       <path d=\"M 0 0 \r\nL 0 3.5 \r\n\" id=\"m52973d51c2\" style=\"stroke:#000000;stroke-width:0.8;\"/>\r\n      </defs>\r\n      <g>\r\n       <use style=\"stroke:#000000;stroke-width:0.8;\" x=\"49.190625\" xlink:href=\"#m52973d51c2\" y=\"235.238438\"/>\r\n      </g>\r\n     </g>\r\n    </g>\r\n    <g id=\"xtick_2\">\r\n     <g id=\"line2d_2\">\r\n      <g>\r\n       <use style=\"stroke:#000000;stroke-width:0.8;\" x=\"383.990625\" xlink:href=\"#m52973d51c2\" y=\"235.238438\"/>\r\n      </g>\r\n     </g>\r\n     <g id=\"text_1\">\r\n      <!-- 01:00 -->\r\n      <defs>\r\n       <path d=\"M 31.78125 66.40625 \r\nQ 24.171875 66.40625 20.328125 58.90625 \r\nQ 16.5 51.421875 16.5 36.375 \r\nQ 16.5 21.390625 20.328125 13.890625 \r\nQ 24.171875 6.390625 31.78125 6.390625 \r\nQ 39.453125 6.390625 43.28125 13.890625 \r\nQ 47.125 21.390625 47.125 36.375 \r\nQ 47.125 51.421875 43.28125 58.90625 \r\nQ 39.453125 66.40625 31.78125 66.40625 \r\nz\r\nM 31.78125 74.21875 \r\nQ 44.046875 74.21875 50.515625 64.515625 \r\nQ 56.984375 54.828125 56.984375 36.375 \r\nQ 56.984375 17.96875 50.515625 8.265625 \r\nQ 44.046875 -1.421875 31.78125 -1.421875 \r\nQ 19.53125 -1.421875 13.0625 8.265625 \r\nQ 6.59375 17.96875 6.59375 36.375 \r\nQ 6.59375 54.828125 13.0625 64.515625 \r\nQ 19.53125 74.21875 31.78125 74.21875 \r\nz\r\n\" id=\"DejaVuSans-48\"/>\r\n       <path d=\"M 12.40625 8.296875 \r\nL 28.515625 8.296875 \r\nL 28.515625 63.921875 \r\nL 10.984375 60.40625 \r\nL 10.984375 69.390625 \r\nL 28.421875 72.90625 \r\nL 38.28125 72.90625 \r\nL 38.28125 8.296875 \r\nL 54.390625 8.296875 \r\nL 54.390625 0 \r\nL 12.40625 0 \r\nz\r\n\" id=\"DejaVuSans-49\"/>\r\n       <path d=\"M 11.71875 12.40625 \r\nL 22.015625 12.40625 \r\nL 22.015625 0 \r\nL 11.71875 0 \r\nz\r\nM 11.71875 51.703125 \r\nL 22.015625 51.703125 \r\nL 22.015625 39.3125 \r\nL 11.71875 39.3125 \r\nz\r\n\" id=\"DejaVuSans-58\"/>\r\n      </defs>\r\n      <g transform=\"translate(369.58125 249.836875)scale(0.1 -0.1)\">\r\n       <use xlink:href=\"#DejaVuSans-48\"/>\r\n       <use x=\"63.623047\" xlink:href=\"#DejaVuSans-49\"/>\r\n       <use x=\"127.246094\" xlink:href=\"#DejaVuSans-58\"/>\r\n       <use x=\"160.9375\" xlink:href=\"#DejaVuSans-48\"/>\r\n       <use x=\"224.560547\" xlink:href=\"#DejaVuSans-48\"/>\r\n      </g>\r\n     </g>\r\n    </g>\r\n    <g id=\"xtick_3\">\r\n     <g id=\"line2d_3\">\r\n      <defs>\r\n       <path d=\"M 0 0 \r\nL 0 2 \r\n\" id=\"me6ce9212e4\" style=\"stroke:#000000;stroke-width:0.6;\"/>\r\n      </defs>\r\n      <g>\r\n       <use style=\"stroke:#000000;stroke-width:0.6;\" x=\"76.23575\" xlink:href=\"#me6ce9212e4\" y=\"235.238438\"/>\r\n      </g>\r\n     </g>\r\n     <g id=\"text_2\">\r\n      <!-- 00:05 -->\r\n      <defs>\r\n       <path d=\"M 10.796875 72.90625 \r\nL 49.515625 72.90625 \r\nL 49.515625 64.59375 \r\nL 19.828125 64.59375 \r\nL 19.828125 46.734375 \r\nQ 21.96875 47.46875 24.109375 47.828125 \r\nQ 26.265625 48.1875 28.421875 48.1875 \r\nQ 40.625 48.1875 47.75 41.5 \r\nQ 54.890625 34.8125 54.890625 23.390625 \r\nQ 54.890625 11.625 47.5625 5.09375 \r\nQ 40.234375 -1.421875 26.90625 -1.421875 \r\nQ 22.3125 -1.421875 17.546875 -0.640625 \r\nQ 12.796875 0.140625 7.71875 1.703125 \r\nL 7.71875 11.625 \r\nQ 12.109375 9.234375 16.796875 8.0625 \r\nQ 21.484375 6.890625 26.703125 6.890625 \r\nQ 35.15625 6.890625 40.078125 11.328125 \r\nQ 45.015625 15.765625 45.015625 23.390625 \r\nQ 45.015625 31 40.078125 35.4375 \r\nQ 35.15625 39.890625 26.703125 39.890625 \r\nQ 22.75 39.890625 18.8125 39.015625 \r\nQ 14.890625 38.140625 10.796875 36.28125 \r\nz\r\n\" id=\"DejaVuSans-53\"/>\r\n      </defs>\r\n      <g transform=\"translate(61.826375 248.236875)scale(0.1 -0.1)\">\r\n       <use xlink:href=\"#DejaVuSans-48\"/>\r\n       <use x=\"63.623047\" xlink:href=\"#DejaVuSans-48\"/>\r\n       <use x=\"127.246094\" xlink:href=\"#DejaVuSans-58\"/>\r\n       <use x=\"160.9375\" xlink:href=\"#DejaVuSans-48\"/>\r\n       <use x=\"224.560547\" xlink:href=\"#DejaVuSans-53\"/>\r\n      </g>\r\n     </g>\r\n    </g>\r\n    <g id=\"xtick_4\">\r\n     <g id=\"line2d_4\">\r\n      <g>\r\n       <use style=\"stroke:#000000;stroke-width:0.6;\" x=\"104.213466\" xlink:href=\"#me6ce9212e4\" y=\"235.238438\"/>\r\n      </g>\r\n     </g>\r\n     <g id=\"text_3\">\r\n      <!-- 00:10 -->\r\n      <g transform=\"translate(89.804091 248.236875)scale(0.1 -0.1)\">\r\n       <use xlink:href=\"#DejaVuSans-48\"/>\r\n       <use x=\"63.623047\" xlink:href=\"#DejaVuSans-48\"/>\r\n       <use x=\"127.246094\" xlink:href=\"#DejaVuSans-58\"/>\r\n       <use x=\"160.9375\" xlink:href=\"#DejaVuSans-49\"/>\r\n       <use x=\"224.560547\" xlink:href=\"#DejaVuSans-48\"/>\r\n      </g>\r\n     </g>\r\n    </g>\r\n    <g id=\"xtick_5\">\r\n     <g id=\"line2d_5\">\r\n      <g>\r\n       <use style=\"stroke:#000000;stroke-width:0.6;\" x=\"132.191182\" xlink:href=\"#me6ce9212e4\" y=\"235.238438\"/>\r\n      </g>\r\n     </g>\r\n     <g id=\"text_4\">\r\n      <!-- 00:15 -->\r\n      <g transform=\"translate(117.781807 248.236875)scale(0.1 -0.1)\">\r\n       <use xlink:href=\"#DejaVuSans-48\"/>\r\n       <use x=\"63.623047\" xlink:href=\"#DejaVuSans-48\"/>\r\n       <use x=\"127.246094\" xlink:href=\"#DejaVuSans-58\"/>\r\n       <use x=\"160.9375\" xlink:href=\"#DejaVuSans-49\"/>\r\n       <use x=\"224.560547\" xlink:href=\"#DejaVuSans-53\"/>\r\n      </g>\r\n     </g>\r\n    </g>\r\n    <g id=\"xtick_6\">\r\n     <g id=\"line2d_6\">\r\n      <g>\r\n       <use style=\"stroke:#000000;stroke-width:0.6;\" x=\"160.168898\" xlink:href=\"#me6ce9212e4\" y=\"235.238438\"/>\r\n      </g>\r\n     </g>\r\n     <g id=\"text_5\">\r\n      <!-- 00:20 -->\r\n      <defs>\r\n       <path d=\"M 19.1875 8.296875 \r\nL 53.609375 8.296875 \r\nL 53.609375 0 \r\nL 7.328125 0 \r\nL 7.328125 8.296875 \r\nQ 12.9375 14.109375 22.625 23.890625 \r\nQ 32.328125 33.6875 34.8125 36.53125 \r\nQ 39.546875 41.84375 41.421875 45.53125 \r\nQ 43.3125 49.21875 43.3125 52.78125 \r\nQ 43.3125 58.59375 39.234375 62.25 \r\nQ 35.15625 65.921875 28.609375 65.921875 \r\nQ 23.96875 65.921875 18.8125 64.3125 \r\nQ 13.671875 62.703125 7.8125 59.421875 \r\nL 7.8125 69.390625 \r\nQ 13.765625 71.78125 18.9375 73 \r\nQ 24.125 74.21875 28.421875 74.21875 \r\nQ 39.75 74.21875 46.484375 68.546875 \r\nQ 53.21875 62.890625 53.21875 53.421875 \r\nQ 53.21875 48.921875 51.53125 44.890625 \r\nQ 49.859375 40.875 45.40625 35.40625 \r\nQ 44.1875 33.984375 37.640625 27.21875 \r\nQ 31.109375 20.453125 19.1875 8.296875 \r\nz\r\n\" id=\"DejaVuSans-50\"/>\r\n      </defs>\r\n      <g transform=\"translate(145.759523 248.236875)scale(0.1 -0.1)\">\r\n       <use xlink:href=\"#DejaVuSans-48\"/>\r\n       <use x=\"63.623047\" xlink:href=\"#DejaVuSans-48\"/>\r\n       <use x=\"127.246094\" xlink:href=\"#DejaVuSans-58\"/>\r\n       <use x=\"160.9375\" xlink:href=\"#DejaVuSans-50\"/>\r\n       <use x=\"224.560547\" xlink:href=\"#DejaVuSans-48\"/>\r\n      </g>\r\n     </g>\r\n    </g>\r\n    <g id=\"xtick_7\">\r\n     <g id=\"line2d_7\">\r\n      <g>\r\n       <use style=\"stroke:#000000;stroke-width:0.6;\" x=\"188.146614\" xlink:href=\"#me6ce9212e4\" y=\"235.238438\"/>\r\n      </g>\r\n     </g>\r\n     <g id=\"text_6\">\r\n      <!-- 00:25 -->\r\n      <g transform=\"translate(173.737239 248.236875)scale(0.1 -0.1)\">\r\n       <use xlink:href=\"#DejaVuSans-48\"/>\r\n       <use x=\"63.623047\" xlink:href=\"#DejaVuSans-48\"/>\r\n       <use x=\"127.246094\" xlink:href=\"#DejaVuSans-58\"/>\r\n       <use x=\"160.9375\" xlink:href=\"#DejaVuSans-50\"/>\r\n       <use x=\"224.560547\" xlink:href=\"#DejaVuSans-53\"/>\r\n      </g>\r\n     </g>\r\n    </g>\r\n    <g id=\"xtick_8\">\r\n     <g id=\"line2d_8\">\r\n      <g>\r\n       <use style=\"stroke:#000000;stroke-width:0.6;\" x=\"216.12433\" xlink:href=\"#me6ce9212e4\" y=\"235.238438\"/>\r\n      </g>\r\n     </g>\r\n     <g id=\"text_7\">\r\n      <!-- 00:30 -->\r\n      <defs>\r\n       <path d=\"M 40.578125 39.3125 \r\nQ 47.65625 37.796875 51.625 33 \r\nQ 55.609375 28.21875 55.609375 21.1875 \r\nQ 55.609375 10.40625 48.1875 4.484375 \r\nQ 40.765625 -1.421875 27.09375 -1.421875 \r\nQ 22.515625 -1.421875 17.65625 -0.515625 \r\nQ 12.796875 0.390625 7.625 2.203125 \r\nL 7.625 11.71875 \r\nQ 11.71875 9.328125 16.59375 8.109375 \r\nQ 21.484375 6.890625 26.8125 6.890625 \r\nQ 36.078125 6.890625 40.9375 10.546875 \r\nQ 45.796875 14.203125 45.796875 21.1875 \r\nQ 45.796875 27.640625 41.28125 31.265625 \r\nQ 36.765625 34.90625 28.71875 34.90625 \r\nL 20.21875 34.90625 \r\nL 20.21875 43.015625 \r\nL 29.109375 43.015625 \r\nQ 36.375 43.015625 40.234375 45.921875 \r\nQ 44.09375 48.828125 44.09375 54.296875 \r\nQ 44.09375 59.90625 40.109375 62.90625 \r\nQ 36.140625 65.921875 28.71875 65.921875 \r\nQ 24.65625 65.921875 20.015625 65.03125 \r\nQ 15.375 64.15625 9.8125 62.3125 \r\nL 9.8125 71.09375 \r\nQ 15.4375 72.65625 20.34375 73.4375 \r\nQ 25.25 74.21875 29.59375 74.21875 \r\nQ 40.828125 74.21875 47.359375 69.109375 \r\nQ 53.90625 64.015625 53.90625 55.328125 \r\nQ 53.90625 49.265625 50.4375 45.09375 \r\nQ 46.96875 40.921875 40.578125 39.3125 \r\nz\r\n\" id=\"DejaVuSans-51\"/>\r\n      </defs>\r\n      <g transform=\"translate(201.714955 248.236875)scale(0.1 -0.1)\">\r\n       <use xlink:href=\"#DejaVuSans-48\"/>\r\n       <use x=\"63.623047\" xlink:href=\"#DejaVuSans-48\"/>\r\n       <use x=\"127.246094\" xlink:href=\"#DejaVuSans-58\"/>\r\n       <use x=\"160.9375\" xlink:href=\"#DejaVuSans-51\"/>\r\n       <use x=\"224.560547\" xlink:href=\"#DejaVuSans-48\"/>\r\n      </g>\r\n     </g>\r\n    </g>\r\n    <g id=\"xtick_9\">\r\n     <g id=\"line2d_9\">\r\n      <g>\r\n       <use style=\"stroke:#000000;stroke-width:0.6;\" x=\"244.102046\" xlink:href=\"#me6ce9212e4\" y=\"235.238438\"/>\r\n      </g>\r\n     </g>\r\n     <g id=\"text_8\">\r\n      <!-- 00:35 -->\r\n      <g transform=\"translate(229.692671 248.236875)scale(0.1 -0.1)\">\r\n       <use xlink:href=\"#DejaVuSans-48\"/>\r\n       <use x=\"63.623047\" xlink:href=\"#DejaVuSans-48\"/>\r\n       <use x=\"127.246094\" xlink:href=\"#DejaVuSans-58\"/>\r\n       <use x=\"160.9375\" xlink:href=\"#DejaVuSans-51\"/>\r\n       <use x=\"224.560547\" xlink:href=\"#DejaVuSans-53\"/>\r\n      </g>\r\n     </g>\r\n    </g>\r\n    <g id=\"xtick_10\">\r\n     <g id=\"line2d_10\">\r\n      <g>\r\n       <use style=\"stroke:#000000;stroke-width:0.6;\" x=\"272.079762\" xlink:href=\"#me6ce9212e4\" y=\"235.238438\"/>\r\n      </g>\r\n     </g>\r\n     <g id=\"text_9\">\r\n      <!-- 00:40 -->\r\n      <defs>\r\n       <path d=\"M 37.796875 64.3125 \r\nL 12.890625 25.390625 \r\nL 37.796875 25.390625 \r\nz\r\nM 35.203125 72.90625 \r\nL 47.609375 72.90625 \r\nL 47.609375 25.390625 \r\nL 58.015625 25.390625 \r\nL 58.015625 17.1875 \r\nL 47.609375 17.1875 \r\nL 47.609375 0 \r\nL 37.796875 0 \r\nL 37.796875 17.1875 \r\nL 4.890625 17.1875 \r\nL 4.890625 26.703125 \r\nz\r\n\" id=\"DejaVuSans-52\"/>\r\n      </defs>\r\n      <g transform=\"translate(257.670387 248.236875)scale(0.1 -0.1)\">\r\n       <use xlink:href=\"#DejaVuSans-48\"/>\r\n       <use x=\"63.623047\" xlink:href=\"#DejaVuSans-48\"/>\r\n       <use x=\"127.246094\" xlink:href=\"#DejaVuSans-58\"/>\r\n       <use x=\"160.9375\" xlink:href=\"#DejaVuSans-52\"/>\r\n       <use x=\"224.560547\" xlink:href=\"#DejaVuSans-48\"/>\r\n      </g>\r\n     </g>\r\n    </g>\r\n    <g id=\"xtick_11\">\r\n     <g id=\"line2d_11\">\r\n      <g>\r\n       <use style=\"stroke:#000000;stroke-width:0.6;\" x=\"300.057477\" xlink:href=\"#me6ce9212e4\" y=\"235.238438\"/>\r\n      </g>\r\n     </g>\r\n     <g id=\"text_10\">\r\n      <!-- 00:45 -->\r\n      <g transform=\"translate(285.648102 248.236875)scale(0.1 -0.1)\">\r\n       <use xlink:href=\"#DejaVuSans-48\"/>\r\n       <use x=\"63.623047\" xlink:href=\"#DejaVuSans-48\"/>\r\n       <use x=\"127.246094\" xlink:href=\"#DejaVuSans-58\"/>\r\n       <use x=\"160.9375\" xlink:href=\"#DejaVuSans-52\"/>\r\n       <use x=\"224.560547\" xlink:href=\"#DejaVuSans-53\"/>\r\n      </g>\r\n     </g>\r\n    </g>\r\n    <g id=\"xtick_12\">\r\n     <g id=\"line2d_12\">\r\n      <g>\r\n       <use style=\"stroke:#000000;stroke-width:0.6;\" x=\"328.035193\" xlink:href=\"#me6ce9212e4\" y=\"235.238438\"/>\r\n      </g>\r\n     </g>\r\n     <g id=\"text_11\">\r\n      <!-- 00:50 -->\r\n      <g transform=\"translate(313.625818 248.236875)scale(0.1 -0.1)\">\r\n       <use xlink:href=\"#DejaVuSans-48\"/>\r\n       <use x=\"63.623047\" xlink:href=\"#DejaVuSans-48\"/>\r\n       <use x=\"127.246094\" xlink:href=\"#DejaVuSans-58\"/>\r\n       <use x=\"160.9375\" xlink:href=\"#DejaVuSans-53\"/>\r\n       <use x=\"224.560547\" xlink:href=\"#DejaVuSans-48\"/>\r\n      </g>\r\n     </g>\r\n    </g>\r\n    <g id=\"xtick_13\">\r\n     <g id=\"line2d_13\">\r\n      <g>\r\n       <use style=\"stroke:#000000;stroke-width:0.6;\" x=\"356.012909\" xlink:href=\"#me6ce9212e4\" y=\"235.238438\"/>\r\n      </g>\r\n     </g>\r\n     <g id=\"text_12\">\r\n      <!-- 00:55 -->\r\n      <g transform=\"translate(341.603534 248.236875)scale(0.1 -0.1)\">\r\n       <use xlink:href=\"#DejaVuSans-48\"/>\r\n       <use x=\"63.623047\" xlink:href=\"#DejaVuSans-48\"/>\r\n       <use x=\"127.246094\" xlink:href=\"#DejaVuSans-58\"/>\r\n       <use x=\"160.9375\" xlink:href=\"#DejaVuSans-53\"/>\r\n       <use x=\"224.560547\" xlink:href=\"#DejaVuSans-53\"/>\r\n      </g>\r\n     </g>\r\n    </g>\r\n    <g id=\"text_13\">\r\n     <!-- time -->\r\n     <defs>\r\n      <path d=\"M 18.3125 70.21875 \r\nL 18.3125 54.6875 \r\nL 36.8125 54.6875 \r\nL 36.8125 47.703125 \r\nL 18.3125 47.703125 \r\nL 18.3125 18.015625 \r\nQ 18.3125 11.328125 20.140625 9.421875 \r\nQ 21.96875 7.515625 27.59375 7.515625 \r\nL 36.8125 7.515625 \r\nL 36.8125 0 \r\nL 27.59375 0 \r\nQ 17.1875 0 13.234375 3.875 \r\nQ 9.28125 7.765625 9.28125 18.015625 \r\nL 9.28125 47.703125 \r\nL 2.6875 47.703125 \r\nL 2.6875 54.6875 \r\nL 9.28125 54.6875 \r\nL 9.28125 70.21875 \r\nz\r\n\" id=\"DejaVuSans-116\"/>\r\n      <path d=\"M 9.421875 54.6875 \r\nL 18.40625 54.6875 \r\nL 18.40625 0 \r\nL 9.421875 0 \r\nz\r\nM 9.421875 75.984375 \r\nL 18.40625 75.984375 \r\nL 18.40625 64.59375 \r\nL 9.421875 64.59375 \r\nz\r\n\" id=\"DejaVuSans-105\"/>\r\n      <path d=\"M 52 44.1875 \r\nQ 55.375 50.25 60.0625 53.125 \r\nQ 64.75 56 71.09375 56 \r\nQ 79.640625 56 84.28125 50.015625 \r\nQ 88.921875 44.046875 88.921875 33.015625 \r\nL 88.921875 0 \r\nL 79.890625 0 \r\nL 79.890625 32.71875 \r\nQ 79.890625 40.578125 77.09375 44.375 \r\nQ 74.3125 48.1875 68.609375 48.1875 \r\nQ 61.625 48.1875 57.5625 43.546875 \r\nQ 53.515625 38.921875 53.515625 30.90625 \r\nL 53.515625 0 \r\nL 44.484375 0 \r\nL 44.484375 32.71875 \r\nQ 44.484375 40.625 41.703125 44.40625 \r\nQ 38.921875 48.1875 33.109375 48.1875 \r\nQ 26.21875 48.1875 22.15625 43.53125 \r\nQ 18.109375 38.875 18.109375 30.90625 \r\nL 18.109375 0 \r\nL 9.078125 0 \r\nL 9.078125 54.6875 \r\nL 18.109375 54.6875 \r\nL 18.109375 46.1875 \r\nQ 21.1875 51.21875 25.484375 53.609375 \r\nQ 29.78125 56 35.6875 56 \r\nQ 41.65625 56 45.828125 52.96875 \r\nQ 50 49.953125 52 44.1875 \r\nz\r\n\" id=\"DejaVuSans-109\"/>\r\n      <path d=\"M 56.203125 29.59375 \r\nL 56.203125 25.203125 \r\nL 14.890625 25.203125 \r\nQ 15.484375 15.921875 20.484375 11.0625 \r\nQ 25.484375 6.203125 34.421875 6.203125 \r\nQ 39.59375 6.203125 44.453125 7.46875 \r\nQ 49.3125 8.734375 54.109375 11.28125 \r\nL 54.109375 2.78125 \r\nQ 49.265625 0.734375 44.1875 -0.34375 \r\nQ 39.109375 -1.421875 33.890625 -1.421875 \r\nQ 20.796875 -1.421875 13.15625 6.1875 \r\nQ 5.515625 13.8125 5.515625 26.8125 \r\nQ 5.515625 40.234375 12.765625 48.109375 \r\nQ 20.015625 56 32.328125 56 \r\nQ 43.359375 56 49.78125 48.890625 \r\nQ 56.203125 41.796875 56.203125 29.59375 \r\nz\r\nM 47.21875 32.234375 \r\nQ 47.125 39.59375 43.09375 43.984375 \r\nQ 39.0625 48.390625 32.421875 48.390625 \r\nQ 24.90625 48.390625 20.390625 44.140625 \r\nQ 15.875 39.890625 15.1875 32.171875 \r\nz\r\n\" id=\"DejaVuSans-101\"/>\r\n     </defs>\r\n     <g transform=\"translate(205.294531 263.515)scale(0.1 -0.1)\">\r\n      <use xlink:href=\"#DejaVuSans-116\"/>\r\n      <use x=\"39.208984\" xlink:href=\"#DejaVuSans-105\"/>\r\n      <use x=\"66.992188\" xlink:href=\"#DejaVuSans-109\"/>\r\n      <use x=\"164.404297\" xlink:href=\"#DejaVuSans-101\"/>\r\n     </g>\r\n    </g>\r\n   </g>\r\n   <g id=\"matplotlib.axis_2\">\r\n    <g id=\"ytick_1\">\r\n     <g id=\"line2d_14\">\r\n      <defs>\r\n       <path d=\"M 0 0 \r\nL -3.5 0 \r\n\" id=\"m4a078396b1\" style=\"stroke:#000000;stroke-width:0.8;\"/>\r\n      </defs>\r\n      <g>\r\n       <use style=\"stroke:#000000;stroke-width:0.8;\" x=\"49.190625\" xlink:href=\"#m4a078396b1\" y=\"207.70545\"/>\r\n      </g>\r\n     </g>\r\n     <g id=\"text_14\">\r\n      <!-- 1.6875 -->\r\n      <defs>\r\n       <path d=\"M 10.6875 12.40625 \r\nL 21 12.40625 \r\nL 21 0 \r\nL 10.6875 0 \r\nz\r\n\" id=\"DejaVuSans-46\"/>\r\n       <path d=\"M 33.015625 40.375 \r\nQ 26.375 40.375 22.484375 35.828125 \r\nQ 18.609375 31.296875 18.609375 23.390625 \r\nQ 18.609375 15.53125 22.484375 10.953125 \r\nQ 26.375 6.390625 33.015625 6.390625 \r\nQ 39.65625 6.390625 43.53125 10.953125 \r\nQ 47.40625 15.53125 47.40625 23.390625 \r\nQ 47.40625 31.296875 43.53125 35.828125 \r\nQ 39.65625 40.375 33.015625 40.375 \r\nz\r\nM 52.59375 71.296875 \r\nL 52.59375 62.3125 \r\nQ 48.875 64.0625 45.09375 64.984375 \r\nQ 41.3125 65.921875 37.59375 65.921875 \r\nQ 27.828125 65.921875 22.671875 59.328125 \r\nQ 17.53125 52.734375 16.796875 39.40625 \r\nQ 19.671875 43.65625 24.015625 45.921875 \r\nQ 28.375 48.1875 33.59375 48.1875 \r\nQ 44.578125 48.1875 50.953125 41.515625 \r\nQ 57.328125 34.859375 57.328125 23.390625 \r\nQ 57.328125 12.15625 50.6875 5.359375 \r\nQ 44.046875 -1.421875 33.015625 -1.421875 \r\nQ 20.359375 -1.421875 13.671875 8.265625 \r\nQ 6.984375 17.96875 6.984375 36.375 \r\nQ 6.984375 53.65625 15.1875 63.9375 \r\nQ 23.390625 74.21875 37.203125 74.21875 \r\nQ 40.921875 74.21875 44.703125 73.484375 \r\nQ 48.484375 72.75 52.59375 71.296875 \r\nz\r\n\" id=\"DejaVuSans-54\"/>\r\n       <path d=\"M 31.78125 34.625 \r\nQ 24.75 34.625 20.71875 30.859375 \r\nQ 16.703125 27.09375 16.703125 20.515625 \r\nQ 16.703125 13.921875 20.71875 10.15625 \r\nQ 24.75 6.390625 31.78125 6.390625 \r\nQ 38.8125 6.390625 42.859375 10.171875 \r\nQ 46.921875 13.96875 46.921875 20.515625 \r\nQ 46.921875 27.09375 42.890625 30.859375 \r\nQ 38.875 34.625 31.78125 34.625 \r\nz\r\nM 21.921875 38.8125 \r\nQ 15.578125 40.375 12.03125 44.71875 \r\nQ 8.5 49.078125 8.5 55.328125 \r\nQ 8.5 64.0625 14.71875 69.140625 \r\nQ 20.953125 74.21875 31.78125 74.21875 \r\nQ 42.671875 74.21875 48.875 69.140625 \r\nQ 55.078125 64.0625 55.078125 55.328125 \r\nQ 55.078125 49.078125 51.53125 44.71875 \r\nQ 48 40.375 41.703125 38.8125 \r\nQ 48.828125 37.15625 52.796875 32.3125 \r\nQ 56.78125 27.484375 56.78125 20.515625 \r\nQ 56.78125 9.90625 50.3125 4.234375 \r\nQ 43.84375 -1.421875 31.78125 -1.421875 \r\nQ 19.734375 -1.421875 13.25 4.234375 \r\nQ 6.78125 9.90625 6.78125 20.515625 \r\nQ 6.78125 27.484375 10.78125 32.3125 \r\nQ 14.796875 37.15625 21.921875 38.8125 \r\nz\r\nM 18.3125 54.390625 \r\nQ 18.3125 48.734375 21.84375 45.5625 \r\nQ 25.390625 42.390625 31.78125 42.390625 \r\nQ 38.140625 42.390625 41.71875 45.5625 \r\nQ 45.3125 48.734375 45.3125 54.390625 \r\nQ 45.3125 60.0625 41.71875 63.234375 \r\nQ 38.140625 66.40625 31.78125 66.40625 \r\nQ 25.390625 66.40625 21.84375 63.234375 \r\nQ 18.3125 60.0625 18.3125 54.390625 \r\nz\r\n\" id=\"DejaVuSans-56\"/>\r\n       <path d=\"M 8.203125 72.90625 \r\nL 55.078125 72.90625 \r\nL 55.078125 68.703125 \r\nL 28.609375 0 \r\nL 18.3125 0 \r\nL 43.21875 64.59375 \r\nL 8.203125 64.59375 \r\nz\r\n\" id=\"DejaVuSans-55\"/>\r\n      </defs>\r\n      <g transform=\"translate(7.2 211.504669)scale(0.1 -0.1)\">\r\n       <use xlink:href=\"#DejaVuSans-49\"/>\r\n       <use x=\"63.623047\" xlink:href=\"#DejaVuSans-46\"/>\r\n       <use x=\"95.410156\" xlink:href=\"#DejaVuSans-54\"/>\r\n       <use x=\"159.033203\" xlink:href=\"#DejaVuSans-56\"/>\r\n       <use x=\"222.65625\" xlink:href=\"#DejaVuSans-55\"/>\r\n       <use x=\"286.279297\" xlink:href=\"#DejaVuSans-53\"/>\r\n      </g>\r\n     </g>\r\n    </g>\r\n    <g id=\"ytick_2\">\r\n     <g id=\"line2d_15\">\r\n      <g>\r\n       <use style=\"stroke:#000000;stroke-width:0.8;\" x=\"49.190625\" xlink:href=\"#m4a078396b1\" y=\"178.289866\"/>\r\n      </g>\r\n     </g>\r\n     <g id=\"text_15\">\r\n      <!-- 1.6900 -->\r\n      <defs>\r\n       <path d=\"M 10.984375 1.515625 \r\nL 10.984375 10.5 \r\nQ 14.703125 8.734375 18.5 7.8125 \r\nQ 22.3125 6.890625 25.984375 6.890625 \r\nQ 35.75 6.890625 40.890625 13.453125 \r\nQ 46.046875 20.015625 46.78125 33.40625 \r\nQ 43.953125 29.203125 39.59375 26.953125 \r\nQ 35.25 24.703125 29.984375 24.703125 \r\nQ 19.046875 24.703125 12.671875 31.3125 \r\nQ 6.296875 37.9375 6.296875 49.421875 \r\nQ 6.296875 60.640625 12.9375 67.421875 \r\nQ 19.578125 74.21875 30.609375 74.21875 \r\nQ 43.265625 74.21875 49.921875 64.515625 \r\nQ 56.59375 54.828125 56.59375 36.375 \r\nQ 56.59375 19.140625 48.40625 8.859375 \r\nQ 40.234375 -1.421875 26.421875 -1.421875 \r\nQ 22.703125 -1.421875 18.890625 -0.6875 \r\nQ 15.09375 0.046875 10.984375 1.515625 \r\nz\r\nM 30.609375 32.421875 \r\nQ 37.25 32.421875 41.125 36.953125 \r\nQ 45.015625 41.5 45.015625 49.421875 \r\nQ 45.015625 57.28125 41.125 61.84375 \r\nQ 37.25 66.40625 30.609375 66.40625 \r\nQ 23.96875 66.40625 20.09375 61.84375 \r\nQ 16.21875 57.28125 16.21875 49.421875 \r\nQ 16.21875 41.5 20.09375 36.953125 \r\nQ 23.96875 32.421875 30.609375 32.421875 \r\nz\r\n\" id=\"DejaVuSans-57\"/>\r\n      </defs>\r\n      <g transform=\"translate(7.2 182.089085)scale(0.1 -0.1)\">\r\n       <use xlink:href=\"#DejaVuSans-49\"/>\r\n       <use x=\"63.623047\" xlink:href=\"#DejaVuSans-46\"/>\r\n       <use x=\"95.410156\" xlink:href=\"#DejaVuSans-54\"/>\r\n       <use x=\"159.033203\" xlink:href=\"#DejaVuSans-57\"/>\r\n       <use x=\"222.65625\" xlink:href=\"#DejaVuSans-48\"/>\r\n       <use x=\"286.279297\" xlink:href=\"#DejaVuSans-48\"/>\r\n      </g>\r\n     </g>\r\n    </g>\r\n    <g id=\"ytick_3\">\r\n     <g id=\"line2d_16\">\r\n      <g>\r\n       <use style=\"stroke:#000000;stroke-width:0.8;\" x=\"49.190625\" xlink:href=\"#m4a078396b1\" y=\"148.874282\"/>\r\n      </g>\r\n     </g>\r\n     <g id=\"text_16\">\r\n      <!-- 1.6925 -->\r\n      <g transform=\"translate(7.2 152.6735)scale(0.1 -0.1)\">\r\n       <use xlink:href=\"#DejaVuSans-49\"/>\r\n       <use x=\"63.623047\" xlink:href=\"#DejaVuSans-46\"/>\r\n       <use x=\"95.410156\" xlink:href=\"#DejaVuSans-54\"/>\r\n       <use x=\"159.033203\" xlink:href=\"#DejaVuSans-57\"/>\r\n       <use x=\"222.65625\" xlink:href=\"#DejaVuSans-50\"/>\r\n       <use x=\"286.279297\" xlink:href=\"#DejaVuSans-53\"/>\r\n      </g>\r\n     </g>\r\n    </g>\r\n    <g id=\"ytick_4\">\r\n     <g id=\"line2d_17\">\r\n      <g>\r\n       <use style=\"stroke:#000000;stroke-width:0.8;\" x=\"49.190625\" xlink:href=\"#m4a078396b1\" y=\"119.458697\"/>\r\n      </g>\r\n     </g>\r\n     <g id=\"text_17\">\r\n      <!-- 1.6950 -->\r\n      <g transform=\"translate(7.2 123.257916)scale(0.1 -0.1)\">\r\n       <use xlink:href=\"#DejaVuSans-49\"/>\r\n       <use x=\"63.623047\" xlink:href=\"#DejaVuSans-46\"/>\r\n       <use x=\"95.410156\" xlink:href=\"#DejaVuSans-54\"/>\r\n       <use x=\"159.033203\" xlink:href=\"#DejaVuSans-57\"/>\r\n       <use x=\"222.65625\" xlink:href=\"#DejaVuSans-53\"/>\r\n       <use x=\"286.279297\" xlink:href=\"#DejaVuSans-48\"/>\r\n      </g>\r\n     </g>\r\n    </g>\r\n    <g id=\"ytick_5\">\r\n     <g id=\"line2d_18\">\r\n      <g>\r\n       <use style=\"stroke:#000000;stroke-width:0.8;\" x=\"49.190625\" xlink:href=\"#m4a078396b1\" y=\"90.043113\"/>\r\n      </g>\r\n     </g>\r\n     <g id=\"text_18\">\r\n      <!-- 1.6975 -->\r\n      <g transform=\"translate(7.2 93.842332)scale(0.1 -0.1)\">\r\n       <use xlink:href=\"#DejaVuSans-49\"/>\r\n       <use x=\"63.623047\" xlink:href=\"#DejaVuSans-46\"/>\r\n       <use x=\"95.410156\" xlink:href=\"#DejaVuSans-54\"/>\r\n       <use x=\"159.033203\" xlink:href=\"#DejaVuSans-57\"/>\r\n       <use x=\"222.65625\" xlink:href=\"#DejaVuSans-55\"/>\r\n       <use x=\"286.279297\" xlink:href=\"#DejaVuSans-53\"/>\r\n      </g>\r\n     </g>\r\n    </g>\r\n    <g id=\"ytick_6\">\r\n     <g id=\"line2d_19\">\r\n      <g>\r\n       <use style=\"stroke:#000000;stroke-width:0.8;\" x=\"49.190625\" xlink:href=\"#m4a078396b1\" y=\"60.627528\"/>\r\n      </g>\r\n     </g>\r\n     <g id=\"text_19\">\r\n      <!-- 1.7000 -->\r\n      <g transform=\"translate(7.2 64.426747)scale(0.1 -0.1)\">\r\n       <use xlink:href=\"#DejaVuSans-49\"/>\r\n       <use x=\"63.623047\" xlink:href=\"#DejaVuSans-46\"/>\r\n       <use x=\"95.410156\" xlink:href=\"#DejaVuSans-55\"/>\r\n       <use x=\"159.033203\" xlink:href=\"#DejaVuSans-48\"/>\r\n       <use x=\"222.65625\" xlink:href=\"#DejaVuSans-48\"/>\r\n       <use x=\"286.279297\" xlink:href=\"#DejaVuSans-48\"/>\r\n      </g>\r\n     </g>\r\n    </g>\r\n    <g id=\"ytick_7\">\r\n     <g id=\"line2d_20\">\r\n      <g>\r\n       <use style=\"stroke:#000000;stroke-width:0.8;\" x=\"49.190625\" xlink:href=\"#m4a078396b1\" y=\"31.211944\"/>\r\n      </g>\r\n     </g>\r\n     <g id=\"text_20\">\r\n      <!-- 1.7025 -->\r\n      <g transform=\"translate(7.2 35.011163)scale(0.1 -0.1)\">\r\n       <use xlink:href=\"#DejaVuSans-49\"/>\r\n       <use x=\"63.623047\" xlink:href=\"#DejaVuSans-46\"/>\r\n       <use x=\"95.410156\" xlink:href=\"#DejaVuSans-55\"/>\r\n       <use x=\"159.033203\" xlink:href=\"#DejaVuSans-48\"/>\r\n       <use x=\"222.65625\" xlink:href=\"#DejaVuSans-50\"/>\r\n       <use x=\"286.279297\" xlink:href=\"#DejaVuSans-53\"/>\r\n      </g>\r\n     </g>\r\n    </g>\r\n    <g id=\"text_21\">\r\n     <!-- 1e6 -->\r\n     <g transform=\"translate(49.190625 14.798437)scale(0.1 -0.1)\">\r\n      <use xlink:href=\"#DejaVuSans-49\"/>\r\n      <use x=\"63.623047\" xlink:href=\"#DejaVuSans-101\"/>\r\n      <use x=\"125.146484\" xlink:href=\"#DejaVuSans-54\"/>\r\n     </g>\r\n    </g>\r\n   </g>\r\n   <g id=\"line2d_21\">\r\n    <path clip-path=\"url(#p38869f13f7)\" d=\"M 49.190625 42.013347 \r\nL 50.123216 35.165399 \r\nL 51.055806 34.741814 \r\nL 51.988397 38.612905 \r\nL 52.920987 34.777113 \r\nL 53.853578 33.859347 \r\nL 54.786168 33.576957 \r\nL 56.651349 45.084334 \r\nL 57.58394 45.331425 \r\nL 58.51653 50.296775 \r\nL 59.449121 41.4721 \r\nL 60.381711 42.307502 \r\nL 61.314302 43.295866 \r\nL 62.246892 55.0621 \r\nL 63.179483 61.886515 \r\nL 64.112073 58.733165 \r\nL 65.044664 60.639295 \r\nL 65.977255 63.65145 \r\nL 66.909845 69.805191 \r\nL 67.842436 77.970957 \r\nL 68.775026 76.323684 \r\nL 69.707617 83.501087 \r\nL 70.640207 102.26823 \r\nL 71.572798 94.278957 \r\nL 72.505388 99.926749 \r\nL 74.370569 108.657295 \r\nL 75.30316 108.974983 \r\nL 76.23575 102.456489 \r\nL 77.168341 100.773918 \r\nL 78.100931 114.034463 \r\nL 79.033522 111.304697 \r\nL 79.966112 111.787113 \r\nL 80.898703 109.869217 \r\nL 81.831294 119.458697 \r\nL 82.763884 132.213295 \r\nL 83.696475 125.906593 \r\nL 84.629065 116.834827 \r\nL 85.561656 116.211217 \r\nL 86.494246 116.905425 \r\nL 87.426837 123.047399 \r\nL 88.359427 137.060983 \r\nL 89.292018 123.506282 \r\nL 91.157199 154.557373 \r\nL 92.089789 133.60171 \r\nL 93.02238 147.768256 \r\nL 94.887561 147.768256 \r\nL 95.820151 132.778074 \r\nL 96.752742 133.331087 \r\nL 97.685333 134.131191 \r\nL 98.617923 149.215502 \r\nL 99.550514 160.111035 \r\nL 100.483104 160.134567 \r\nL 101.415695 164.158619 \r\nL 102.348285 160.146334 \r\nL 103.280876 175.148282 \r\nL 104.213466 178.289866 \r\nL 105.146057 171.994931 \r\nL 106.078647 182.360983 \r\nL 107.011238 162.393684 \r\nL 107.943828 163.052593 \r\nL 108.876419 163.040827 \r\nL 109.809009 162.393684 \r\nL 110.7416 141.085035 \r\nL 111.67419 141.967502 \r\nL 112.606781 151.757009 \r\nL 113.539372 156.804723 \r\nL 114.471962 159.510957 \r\nL 115.404553 166.511866 \r\nL 116.337143 158.475528 \r\nL 117.269734 152.945399 \r\nL 118.202324 154.369113 \r\nL 119.134915 158.816749 \r\nL 120.067505 158.816749 \r\nL 121.000096 154.239684 \r\nL 121.932686 158.852048 \r\nL 122.865277 154.263217 \r\nL 123.797867 151.933502 \r\nL 124.730458 151.933502 \r\nL 125.663048 147.427035 \r\nL 126.595639 168.441528 \r\nL 127.528229 157.381269 \r\nL 128.46082 160.640515 \r\nL 129.393411 151.933502 \r\nL 130.326001 151.933502 \r\nL 131.258592 160.275762 \r\nL 132.191182 157.651892 \r\nL 133.123773 166.782489 \r\nL 134.056363 168.853347 \r\nL 134.988954 173.642204 \r\nL 135.921544 166.523632 \r\nL 136.854135 157.051814 \r\nL 138.719316 134.166489 \r\nL 139.651906 132.283892 \r\nL 140.584497 122.353191 \r\nL 141.517087 124.741736 \r\nL 142.449678 122.447321 \r\nL 143.382268 122.623814 \r\nL 144.314859 122.353191 \r\nL 145.24745 122.353191 \r\nL 146.18004 129.212905 \r\nL 147.112631 132.436853 \r\nL 148.045221 145.309113 \r\nL 148.977812 145.309113 \r\nL 149.910402 137.472801 \r\nL 150.842993 131.224931 \r\nL 151.775583 127.142048 \r\nL 152.708174 131.224931 \r\nL 153.640764 128.048048 \r\nL 154.573355 132.683944 \r\nL 155.505945 132.683944 \r\nL 156.438536 145.956256 \r\nL 157.371126 143.626541 \r\nL 158.303717 142.096931 \r\nL 159.236307 142.108697 \r\nL 160.168898 135.990256 \r\nL 161.101489 143.002931 \r\nL 162.034079 146.168048 \r\nL 163.89926 146.250412 \r\nL 165.764441 146.297476 \r\nL 166.697032 146.47397 \r\nL 167.629622 150.474489 \r\nL 168.562213 152.239425 \r\nL 169.494803 151.439321 \r\nL 170.427394 146.250412 \r\nL 171.359984 134.966593 \r\nL 172.292575 134.060593 \r\nL 173.225165 137.119814 \r\nL 174.157756 139.50836 \r\nL 175.090346 141.237996 \r\nL 176.022937 141.438022 \r\nL 176.955528 144.461944 \r\nL 177.888118 143.555944 \r\nL 178.820709 143.650074 \r\nL 179.753299 154.486775 \r\nL 180.68589 157.781321 \r\nL 181.61848 170.994801 \r\nL 182.551071 156.004619 \r\nL 183.483661 161.723009 \r\nL 184.416252 166.558931 \r\nL 185.348842 168.382697 \r\nL 186.281433 162.758438 \r\nL 187.214023 165.252879 \r\nL 188.146614 165.264645 \r\nL 189.079204 171.253658 \r\nL 190.011795 178.431061 \r\nL 190.944385 196.245139 \r\nL 191.876976 193.409476 \r\nL 192.809567 189.173632 \r\nL 193.742157 178.266334 \r\nL 194.674748 187.043944 \r\nL 195.607338 183.125788 \r\nL 196.539929 181.337321 \r\nL 197.472519 178.854645 \r\nL 198.40511 188.632386 \r\nL 199.3377 192.950593 \r\nL 200.270291 193.291814 \r\nL 201.202881 200.292723 \r\nL 202.135472 201.822334 \r\nL 203.068062 199.163165 \r\nL 204.000653 192.515243 \r\nL 204.933243 201.822334 \r\nL 205.865834 203.810827 \r\nL 206.798424 211.635373 \r\nL 207.731015 212.282515 \r\nL 208.663606 197.92771 \r\nL 209.596196 195.009684 \r\nL 210.528787 196.374567 \r\nL 211.461377 192.785866 \r\nL 212.393968 192.797632 \r\nL 213.326558 198.02184 \r\nL 214.259149 210.670541 \r\nL 215.191739 215.377035 \r\nL 216.12433 208.458489 \r\nL 217.05692 199.092567 \r\nL 217.989511 202.951892 \r\nL 218.922101 207.740749 \r\nL 219.854692 214.5181 \r\nL 220.787282 214.506334 \r\nL 221.719873 211.305918 \r\nL 222.652463 211.600074 \r\nL 223.585054 205.199243 \r\nL 224.517645 192.997658 \r\nL 225.450235 185.05545 \r\nL 226.382826 181.655009 \r\nL 227.315416 187.585191 \r\nL 228.248007 185.937918 \r\nL 229.180597 179.537087 \r\nL 230.113188 179.501788 \r\nL 231.045778 178.289866 \r\nL 231.978369 172.912697 \r\nL 232.910959 171.347788 \r\nL 233.84355 165.005788 \r\nL 234.77614 165.699996 \r\nL 235.708731 154.957425 \r\nL 236.641321 154.475009 \r\nL 237.573912 154.498541 \r\nL 238.506502 155.110386 \r\nL 239.439093 155.098619 \r\nL 240.371684 153.53371 \r\nL 241.304274 153.72197 \r\nL 242.236865 153.733736 \r\nL 243.169455 157.698957 \r\nL 244.102046 149.144905 \r\nL 245.034636 149.144905 \r\nL 245.967227 144.391347 \r\nL 246.899817 142.885269 \r\nL 247.832408 153.804334 \r\nL 248.764998 153.769035 \r\nL 249.697589 156.934152 \r\nL 250.630179 158.710853 \r\nL 251.56277 159.052074 \r\nL 252.49536 168.441528 \r\nL 253.427951 164.935191 \r\nL 254.360541 155.792827 \r\nL 255.293132 157.816619 \r\nL 256.225723 158.25197 \r\nL 257.158313 168.323866 \r\nL 258.090904 168.947476 \r\nL 259.023494 169.865243 \r\nL 259.956085 173.65397 \r\nL 260.888675 176.113113 \r\nL 261.821266 190.0561 \r\nL 262.753856 194.291944 \r\nL 263.686447 194.291944 \r\nL 264.619037 197.11584 \r\nL 265.551628 190.067866 \r\nL 266.484218 192.468178 \r\nL 267.416809 182.690438 \r\nL 268.349399 181.631476 \r\nL 270.21458 197.621788 \r\nL 271.147171 197.692386 \r\nL 272.079762 207.481892 \r\nL 273.012352 207.70545 \r\nL 273.944943 199.469087 \r\nL 274.877533 202.7401 \r\nL 275.810124 202.7401 \r\nL 276.742714 204.752126 \r\nL 277.675305 203.163684 \r\nL 278.607895 203.17545 \r\nL 279.540486 204.493269 \r\nL 280.473076 199.633814 \r\nL 281.405667 197.621788 \r\nL 282.338257 198.468957 \r\nL 283.270848 195.998048 \r\nL 284.203438 197.221736 \r\nL 285.136029 197.233502 \r\nL 286.068619 205.693425 \r\nL 287.00121 201.610541 \r\nL 287.933801 202.198853 \r\nL 288.866391 194.77436 \r\nL 289.798982 193.174152 \r\nL 290.731572 194.797892 \r\nL 291.664163 190.067866 \r\nL 292.596753 190.0561 \r\nL 293.529344 179.631217 \r\nL 295.394525 179.642983 \r\nL 296.327115 179.337061 \r\nL 297.259706 189.326593 \r\nL 298.192296 191.173892 \r\nL 299.124887 190.0561 \r\nL 300.057477 189.350126 \r\nL 301.922658 189.33836 \r\nL 302.855249 178.289866 \r\nL 303.78784 178.289866 \r\nL 304.72043 166.535399 \r\nL 306.585611 167.076645 \r\nL 307.518202 167.547295 \r\nL 308.450792 167.417866 \r\nL 309.383383 167.876749 \r\nL 310.315973 172.041996 \r\nL 311.248564 172.46558 \r\nL 312.181154 179.71358 \r\nL 313.113745 181.101996 \r\nL 314.046335 180.490152 \r\nL 314.978926 185.737892 \r\nL 315.911516 185.761425 \r\nL 316.844107 187.161606 \r\nL 317.776697 176.889684 \r\nL 318.709288 176.936749 \r\nL 319.641879 177.160308 \r\nL 320.574469 181.396152 \r\nL 321.50706 181.407918 \r\nL 322.43965 177.172074 \r\nL 323.372241 176.030749 \r\nL 324.304831 178.383996 \r\nL 325.237422 188.185269 \r\nL 326.170012 190.938567 \r\nL 327.102603 191.032697 \r\nL 328.035193 192.009295 \r\nL 328.967784 192.221087 \r\nL 329.900374 192.950593 \r\nL 330.832965 188.173502 \r\nL 331.765555 188.173502 \r\nL 332.698146 185.126048 \r\nL 333.630736 185.14958 \r\nL 334.563327 177.736853 \r\nL 335.495917 175.983684 \r\nL 336.428508 170.74771 \r\nL 337.361099 174.583502 \r\nL 338.293689 172.665606 \r\nL 339.22628 170.018204 \r\nL 340.15887 160.640515 \r\nL 341.091461 158.910879 \r\nL 342.024051 154.827996 \r\nL 342.956642 153.8161 \r\nL 343.889232 154.757399 \r\nL 344.821823 155.992853 \r\nL 345.754413 155.992853 \r\nL 346.687004 159.322697 \r\nL 347.619594 164.193918 \r\nL 348.552185 165.911788 \r\nL 349.484775 163.017295 \r\nL 350.417366 161.746541 \r\nL 351.349957 161.923035 \r\nL 352.282547 163.334983 \r\nL 353.215138 165.370541 \r\nL 354.147728 165.676463 \r\nL 355.080319 166.523632 \r\nL 356.012909 168.453295 \r\nL 356.9455 169.877009 \r\nL 357.87809 175.007087 \r\nL 358.810681 175.218879 \r\nL 359.743271 175.313009 \r\nL 360.675862 178.348697 \r\nL 361.608452 178.489892 \r\nL 362.541043 179.642983 \r\nL 363.473633 179.948905 \r\nL 364.406224 181.9021 \r\nL 365.338814 182.125658 \r\nL 366.271405 188.173502 \r\nL 368.136586 188.185269 \r\nL 369.069177 192.997658 \r\nL 370.001767 193.621269 \r\nL 370.934358 188.208801 \r\nL 371.866948 188.797113 \r\nL 372.799539 190.091399 \r\nL 374.66472 197.751217 \r\nL 375.59731 213.588567 \r\nL 376.529901 208.98797 \r\nL 377.462491 213.588567 \r\nL 379.327672 213.600334 \r\nL 380.260263 216.059476 \r\nL 381.192853 225.354801 \r\nL 382.125444 225.354801 \r\nL 383.058034 221.589606 \r\nL 383.990625 221.57784 \r\nL 383.990625 221.57784 \r\n\" style=\"fill:none;stroke:#1f77b4;stroke-linecap:square;stroke-width:1.5;\"/>\r\n   </g>\r\n   <g id=\"line2d_22\">\r\n    <path clip-path=\"url(#p38869f13f7)\" d=\"M 49.190625 54.991502 \r\nL 50.123216 47.767035 \r\nL 51.055806 38.730567 \r\nL 51.988397 49.226048 \r\nL 52.920987 40.060152 \r\nL 53.853578 43.790048 \r\nL 54.786168 44.954905 \r\nL 55.718759 53.414827 \r\nL 56.651349 57.191788 \r\nL 57.58394 59.462671 \r\nL 58.51653 62.157139 \r\nL 59.449121 51.649892 \r\nL 60.381711 53.285399 \r\nL 61.314302 55.379788 \r\nL 62.246892 60.851087 \r\nL 63.179483 70.475866 \r\nL 64.112073 71.405399 \r\nL 65.044664 69.640463 \r\nL 65.977255 73.676282 \r\nL 66.909845 78.42984 \r\nL 67.842436 78.076853 \r\nL 68.775026 85.348386 \r\nL 69.707617 89.58423 \r\nL 70.640207 100.032645 \r\nL 71.572798 98.408905 \r\nL 72.505388 105.998126 \r\nL 74.370569 115.95236 \r\nL 75.30316 119.905814 \r\nL 76.23575 107.104152 \r\nL 77.168341 112.85784 \r\nL 78.100931 117.599632 \r\nL 79.033522 117.611399 \r\nL 79.966112 122.01197 \r\nL 80.898703 119.129243 \r\nL 81.831294 121.470723 \r\nL 82.763884 140.473191 \r\nL 83.696475 135.743165 \r\nL 84.629065 124.659373 \r\nL 85.561656 123.82397 \r\nL 86.494246 126.965554 \r\nL 87.426837 133.095762 \r\nL 88.359427 147.532931 \r\nL 89.292018 132.566282 \r\nL 90.224608 149.168438 \r\nL 91.157199 158.15784 \r\nL 92.089789 150.686282 \r\nL 93.02238 146.579866 \r\nL 93.95497 149.886178 \r\nL 94.887561 151.039269 \r\nL 95.820151 148.944879 \r\nL 96.752742 141.94397 \r\nL 97.685333 142.261658 \r\nL 98.617923 157.181243 \r\nL 99.550514 159.769814 \r\nL 101.415695 175.677762 \r\nL 102.348285 167.347269 \r\nL 104.213466 173.124489 \r\nL 105.146057 175.430671 \r\nL 106.078647 179.525321 \r\nL 107.011238 169.347528 \r\nL 107.943828 163.852697 \r\nL 108.876419 162.311321 \r\nL 109.809009 158.216671 \r\nL 110.7416 146.885788 \r\nL 111.67419 150.015606 \r\nL 112.606781 154.404412 \r\nL 114.471962 171.383087 \r\nL 115.404553 174.960022 \r\nL 116.337143 166.382438 \r\nL 117.269734 160.499321 \r\nL 118.202324 162.993762 \r\nL 119.134915 162.758438 \r\nL 120.067505 164.617502 \r\nL 121.000096 159.87571 \r\nL 121.932686 168.606256 \r\nL 122.865277 162.78197 \r\nL 123.797867 154.686801 \r\nL 124.730458 156.851788 \r\nL 125.663048 155.004489 \r\nL 126.595639 168.417996 \r\nL 127.528229 164.029191 \r\nL 128.46082 164.393944 \r\nL 129.393411 159.169736 \r\nL 130.326001 158.569658 \r\nL 131.258592 163.276152 \r\nL 132.191182 165.582334 \r\nL 133.123773 168.688619 \r\nL 134.056363 179.301762 \r\nL 134.988954 178.784048 \r\nL 135.921544 172.265554 \r\nL 136.854135 161.993632 \r\nL 137.786725 154.757399 \r\nL 138.719316 140.167269 \r\nL 139.651906 139.002412 \r\nL 140.584497 128.648126 \r\nL 141.517087 130.401295 \r\nL 142.449678 130.718983 \r\nL 143.382268 131.224931 \r\nL 144.314859 124.624074 \r\nL 145.24745 125.506541 \r\nL 146.18004 140.873243 \r\nL 147.112631 140.826178 \r\nL 148.045221 142.273425 \r\nL 148.977812 146.215113 \r\nL 149.910402 140.967373 \r\nL 150.842993 133.872334 \r\nL 151.775583 133.872334 \r\nL 152.708174 127.753892 \r\nL 153.640764 128.059814 \r\nL 154.573355 138.049347 \r\nL 155.505945 137.919918 \r\nL 156.438536 148.56836 \r\nL 157.371126 147.262308 \r\nL 158.303717 150.392126 \r\nL 159.236307 147.321139 \r\nL 160.168898 140.296697 \r\nL 161.101489 153.780801 \r\nL 162.034079 147.532931 \r\nL 162.96667 152.251191 \r\nL 163.89926 149.733217 \r\nL 164.831851 145.47384 \r\nL 165.764441 151.545217 \r\nL 166.697032 153.404282 \r\nL 167.629622 154.157321 \r\nL 168.562213 156.687061 \r\nL 169.494803 157.428334 \r\nL 170.427394 147.203476 \r\nL 171.359984 139.520126 \r\nL 172.292575 137.931684 \r\nL 173.225165 145.132619 \r\nL 175.090346 149.603788 \r\nL 176.022937 150.109736 \r\nL 176.955528 152.133528 \r\nL 177.888118 150.72158 \r\nL 178.820709 152.886567 \r\nL 179.753299 164.49984 \r\nL 180.68589 167.970879 \r\nL 181.61848 180.113632 \r\nL 182.551071 164.358645 \r\nL 183.483661 166.441269 \r\nL 184.416252 169.735814 \r\nL 185.348842 174.018723 \r\nL 186.281433 170.053502 \r\nL 187.214023 170.206463 \r\nL 189.079204 176.113113 \r\nL 190.011795 181.137295 \r\nL 190.944385 211.047061 \r\nL 191.876976 196.151009 \r\nL 192.809567 200.363321 \r\nL 193.742157 192.362282 \r\nL 194.674748 196.845217 \r\nL 195.607338 193.821295 \r\nL 196.539929 190.291425 \r\nL 197.472519 185.302541 \r\nL 198.40511 194.150749 \r\nL 199.3377 205.058048 \r\nL 200.270291 200.433918 \r\nL 201.202881 203.728463 \r\nL 202.135472 209.023269 \r\nL 203.068062 202.469476 \r\nL 204.000653 202.02236 \r\nL 204.933243 210.08223 \r\nL 205.865834 213.212048 \r\nL 206.798424 216.85958 \r\nL 207.731015 215.318204 \r\nL 208.663606 205.093347 \r\nL 209.596196 204.17558 \r\nL 210.528787 202.881295 \r\nL 211.461377 202.881295 \r\nL 212.393968 201.951762 \r\nL 213.326558 203.210749 \r\nL 214.259149 221.719035 \r\nL 215.191739 216.76545 \r\nL 216.12433 217.989139 \r\nL 217.05692 213.32971 \r\nL 217.989511 213.588567 \r\nL 218.922101 215.353502 \r\nL 219.854692 217.436126 \r\nL 220.787282 219.14223 \r\nL 221.719873 216.447762 \r\nL 222.652463 218.036204 \r\nL 224.517645 196.49223 \r\nL 225.450235 188.691217 \r\nL 226.382826 187.973476 \r\nL 227.315416 193.115321 \r\nL 228.248007 192.244619 \r\nL 229.180597 190.326723 \r\nL 231.045778 184.220048 \r\nL 231.978369 178.948775 \r\nL 232.910959 178.289866 \r\nL 233.84355 177.348567 \r\nL 234.77614 173.806931 \r\nL 235.708731 161.240593 \r\nL 236.641321 158.581425 \r\nL 237.573912 158.15784 \r\nL 238.506502 160.911139 \r\nL 241.304274 157.910749 \r\nL 242.236865 157.510697 \r\nL 243.169455 157.475399 \r\nL 244.102046 152.804204 \r\nL 245.034636 152.121762 \r\nL 246.899817 152.027632 \r\nL 247.832408 161.699476 \r\nL 248.764998 159.228567 \r\nL 249.697589 162.817269 \r\nL 250.630179 163.629139 \r\nL 251.56277 168.476827 \r\nL 252.49536 169.253399 \r\nL 253.427951 168.923944 \r\nL 254.360541 162.417217 \r\nL 255.293132 167.182541 \r\nL 256.225723 167.441399 \r\nL 257.158313 175.324775 \r\nL 258.090904 176.383736 \r\nL 259.956085 181.878567 \r\nL 261.821266 183.631736 \r\nL 262.753856 193.633035 \r\nL 263.686447 196.080412 \r\nL 264.619037 193.550671 \r\nL 265.551628 189.738412 \r\nL 266.484218 193.20945 \r\nL 267.416809 183.502308 \r\nL 268.349399 181.772671 \r\nL 269.28199 203.657866 \r\nL 270.21458 199.045502 \r\nL 271.147171 200.492749 \r\nL 272.079762 208.105502 \r\nL 273.012352 211.32945 \r\nL 273.944943 208.658515 \r\nL 274.877533 198.11597 \r\nL 275.810124 196.503996 \r\nL 276.742714 206.246438 \r\nL 277.675305 200.716308 \r\nL 278.607895 198.104204 \r\nL 279.540486 201.728204 \r\nL 280.473076 195.833321 \r\nL 281.405667 196.645191 \r\nL 282.338257 202.798931 \r\nL 283.270848 199.763243 \r\nL 284.203438 198.880775 \r\nL 285.136029 199.83384 \r\nL 286.068619 209.093866 \r\nL 287.00121 200.763373 \r\nL 287.933801 205.858152 \r\nL 288.866391 197.668853 \r\nL 289.798982 192.809399 \r\nL 290.731572 199.151399 \r\nL 291.664163 199.174931 \r\nL 292.596753 185.078983 \r\nL 293.529344 181.066697 \r\nL 294.461934 179.289996 \r\nL 295.394525 180.160697 \r\nL 296.327115 179.289996 \r\nL 297.259706 193.115321 \r\nL 298.192296 198.221866 \r\nL 299.124887 192.67997 \r\nL 300.057477 189.691347 \r\nL 300.990068 192.232853 \r\nL 301.922658 188.314697 \r\nL 302.855249 182.149191 \r\nL 303.78784 179.937139 \r\nL 304.72043 167.664957 \r\nL 305.653021 171.994931 \r\nL 306.585611 171.300723 \r\nL 307.518202 171.806671 \r\nL 308.450792 169.382827 \r\nL 309.383383 165.994152 \r\nL 310.315973 172.8421 \r\nL 311.248564 173.536308 \r\nL 312.181154 171.194827 \r\nL 313.113745 184.690697 \r\nL 314.046335 184.690697 \r\nL 314.978926 185.314308 \r\nL 315.911516 186.608593 \r\nL 316.844107 191.350386 \r\nL 317.776697 178.584022 \r\nL 318.709288 179.490022 \r\nL 319.641879 183.749399 \r\nL 320.574469 185.584931 \r\nL 321.50706 186.161476 \r\nL 322.43965 181.031399 \r\nL 323.372241 181.149061 \r\nL 324.304831 184.267113 \r\nL 325.237422 188.997139 \r\nL 326.170012 192.338749 \r\nL 327.102603 192.750567 \r\nL 328.035193 197.221736 \r\nL 328.967784 197.315866 \r\nL 329.900374 193.903658 \r\nL 330.832965 187.879347 \r\nL 331.765555 185.855554 \r\nL 332.698146 184.561269 \r\nL 333.630736 187.96171 \r\nL 334.563327 181.925632 \r\nL 335.495917 181.219658 \r\nL 336.428508 171.230126 \r\nL 337.361099 180.925502 \r\nL 338.293689 178.99584 \r\nL 339.22628 171.641944 \r\nL 340.15887 170.359425 \r\nL 341.091461 160.758178 \r\nL 342.024051 162.49958 \r\nL 342.956642 162.181892 \r\nL 343.889232 162.170126 \r\nL 344.821823 159.758048 \r\nL 345.754413 161.005269 \r\nL 346.687004 166.170645 \r\nL 347.619594 172.230256 \r\nL 348.552185 172.230256 \r\nL 350.417366 169.429892 \r\nL 351.349957 169.865243 \r\nL 352.282547 172.253788 \r\nL 353.215138 173.27745 \r\nL 354.147728 173.289217 \r\nL 355.080319 174.018723 \r\nL 356.012909 175.395373 \r\nL 356.9455 175.99545 \r\nL 357.87809 178.195736 \r\nL 358.810681 178.889944 \r\nL 359.743271 179.360593 \r\nL 360.675862 181.219658 \r\nL 361.608452 182.8081 \r\nL 362.541043 182.231554 \r\nL 363.473633 183.608204 \r\nL 364.406224 186.62036 \r\nL 365.338814 187.738152 \r\nL 366.271405 188.361762 \r\nL 367.203995 189.208931 \r\nL 368.136586 189.208931 \r\nL 369.069177 191.8681 \r\nL 370.001767 193.338879 \r\nL 370.934358 191.879866 \r\nL 371.866948 189.361892 \r\nL 372.799539 189.914905 \r\nL 373.732129 196.83345 \r\nL 374.66472 202.681269 \r\nL 375.59731 214.906386 \r\nL 376.529901 212.753165 \r\nL 377.462491 213.941554 \r\nL 378.395082 213.812126 \r\nL 379.327672 215.365269 \r\nL 380.260263 219.271658 \r\nL 381.192853 221.401347 \r\nL 382.125444 225.190074 \r\nL 383.058034 222.001425 \r\nL 383.990625 224.684126 \r\nL 383.990625 224.684126 \r\n\" style=\"fill:none;stroke:#ff7f0e;stroke-linecap:square;stroke-width:1.5;\"/>\r\n   </g>\r\n   <g id=\"line2d_23\">\r\n    <path clip-path=\"url(#p38869f13f7)\" d=\"M 49.190625 37.095061 \r\nL 50.123216 33.977009 \r\nL 51.055806 29.917658 \r\nL 51.988397 32.859217 \r\nL 52.920987 27.682074 \r\nL 53.853578 28.917528 \r\nL 54.786168 31.03545 \r\nL 55.718759 37.742204 \r\nL 56.651349 43.389996 \r\nL 57.58394 45.507918 \r\nL 58.51653 51.449866 \r\nL 59.449121 40.977918 \r\nL 60.381711 45.978567 \r\nL 61.314302 47.743502 \r\nL 62.246892 60.21571 \r\nL 63.179483 60.745191 \r\nL 64.112073 61.451165 \r\nL 65.044664 56.450515 \r\nL 65.977255 70.27584 \r\nL 66.909845 73.158567 \r\nL 67.842436 76.511944 \r\nL 68.775026 81.689087 \r\nL 69.707617 88.219347 \r\nL 70.640207 90.92558 \r\nL 71.572798 88.689996 \r\nL 72.505388 102.397658 \r\nL 74.370569 108.398438 \r\nL 75.30316 108.633762 \r\nL 76.23575 108.339606 \r\nL 77.168341 98.044152 \r\nL 78.100931 103.044801 \r\nL 79.033522 107.045321 \r\nL 79.966112 109.398567 \r\nL 80.898703 108.633762 \r\nL 81.831294 113.928567 \r\nL 82.763884 132.460386 \r\nL 83.696475 129.283502 \r\nL 84.629065 110.869347 \r\nL 85.561656 117.281944 \r\nL 86.494246 120.811814 \r\nL 87.426837 128.518697 \r\nL 88.359427 143.932463 \r\nL 89.292018 130.69545 \r\nL 90.224608 142.402853 \r\nL 91.157199 151.404022 \r\nL 92.089789 140.75558 \r\nL 93.02238 152.580645 \r\nL 93.95497 145.109087 \r\nL 94.887561 143.344152 \r\nL 95.820151 142.991165 \r\nL 96.752742 109.986879 \r\nL 97.685333 132.931035 \r\nL 98.617923 143.75597 \r\nL 99.550514 151.639347 \r\nL 100.483104 160.817009 \r\nL 101.415695 160.993502 \r\nL 102.348285 159.169736 \r\nL 103.280876 156.698827 \r\nL 104.213466 159.522723 \r\nL 105.146057 161.346489 \r\nL 106.078647 168.465061 \r\nL 107.011238 159.816879 \r\nL 107.943828 152.521814 \r\nL 108.876419 152.404152 \r\nL 109.809009 149.403762 \r\nL 110.7416 132.283892 \r\nL 111.67419 138.872983 \r\nL 112.606781 139.284801 \r\nL 113.539372 151.698178 \r\nL 114.471962 156.404671 \r\nL 115.404553 162.346619 \r\nL 116.337143 156.051684 \r\nL 117.269734 147.050515 \r\nL 118.202324 148.933113 \r\nL 119.134915 153.8161 \r\nL 120.067505 152.698308 \r\nL 121.000096 151.874671 \r\nL 121.932686 157.110645 \r\nL 122.865277 157.463632 \r\nL 123.797867 144.873762 \r\nL 124.730458 145.226749 \r\nL 125.663048 144.520775 \r\nL 126.595639 160.052204 \r\nL 127.528229 150.933373 \r\nL 128.46082 150.698048 \r\nL 129.393411 148.874282 \r\nL 130.326001 151.109866 \r\nL 131.258592 149.344931 \r\nL 132.191182 154.81623 \r\nL 133.123773 163.582074 \r\nL 134.056363 168.93571 \r\nL 134.988954 168.170905 \r\nL 135.921544 162.934931 \r\nL 136.854135 156.463502 \r\nL 137.786725 142.991165 \r\nL 138.719316 131.989736 \r\nL 139.651906 131.224931 \r\nL 140.584497 118.929217 \r\nL 141.517087 121.929606 \r\nL 142.449678 121.576619 \r\nL 143.382268 116.399476 \r\nL 144.314859 117.164282 \r\nL 145.24745 114.57571 \r\nL 146.18004 132.636879 \r\nL 147.112631 135.872593 \r\nL 148.045221 134.578308 \r\nL 148.977812 140.049606 \r\nL 149.910402 136.755061 \r\nL 150.842993 125.341814 \r\nL 151.775583 124.341684 \r\nL 152.708174 117.10545 \r\nL 153.640764 124.577009 \r\nL 154.573355 125.106489 \r\nL 155.505945 127.16558 \r\nL 156.438536 136.107918 \r\nL 157.371126 137.22571 \r\nL 158.303717 139.343632 \r\nL 159.236307 137.108048 \r\nL 160.168898 132.342723 \r\nL 161.101489 131.460256 \r\nL 162.034079 144.108957 \r\nL 162.96667 143.991295 \r\nL 163.89926 140.461425 \r\nL 164.831851 134.519476 \r\nL 165.764441 138.637658 \r\nL 166.697032 140.75558 \r\nL 167.629622 153.168957 \r\nL 168.562213 148.638957 \r\nL 169.494803 147.462334 \r\nL 170.427394 135.6961 \r\nL 171.359984 131.519087 \r\nL 172.292575 128.930515 \r\nL 174.157756 138.990645 \r\nL 175.090346 140.75558 \r\nL 176.022937 144.7561 \r\nL 176.955528 142.991165 \r\nL 177.888118 142.991165 \r\nL 178.820709 147.227009 \r\nL 179.753299 147.932983 \r\nL 180.68589 154.81623 \r\nL 181.61848 168.053243 \r\nL 182.551071 161.522983 \r\nL 183.483661 161.169996 \r\nL 184.416252 160.640515 \r\nL 185.348842 161.052334 \r\nL 186.281433 160.640515 \r\nL 187.214023 160.052204 \r\nL 188.146614 161.052334 \r\nL 189.079204 173.524541 \r\nL 190.011795 173.230386 \r\nL 190.944385 191.232723 \r\nL 191.876976 132.931035 \r\nL 192.809567 191.997528 \r\nL 193.742157 179.172334 \r\nL 194.674748 177.113243 \r\nL 195.607338 177.760386 \r\nL 196.539929 178.878178 \r\nL 197.472519 183.408178 \r\nL 198.40511 178.584022 \r\nL 199.3377 190.350256 \r\nL 200.270291 185.996749 \r\nL 201.202881 188.05584 \r\nL 202.135472 191.879866 \r\nL 203.068062 192.115191 \r\nL 204.000653 188.349996 \r\nL 204.933243 199.527918 \r\nL 205.865834 201.292853 \r\nL 206.798424 204.352074 \r\nL 207.731015 201.528178 \r\nL 208.663606 190.0561 \r\nL 209.596196 186.761554 \r\nL 210.528787 187.585191 \r\nL 211.461377 187.52636 \r\nL 212.393968 188.820645 \r\nL 213.326558 187.52636 \r\nL 214.259149 205.411035 \r\nL 215.191739 200.939866 \r\nL 216.12433 203.6461 \r\nL 217.05692 194.703762 \r\nL 217.989511 192.291684 \r\nL 218.922101 197.468827 \r\nL 219.854692 197.057009 \r\nL 220.787282 196.056879 \r\nL 221.719873 192.468178 \r\nL 222.652463 193.232983 \r\nL 223.585054 190.173762 \r\nL 224.517645 186.232074 \r\nL 225.450235 172.230256 \r\nL 226.382826 172.347918 \r\nL 227.315416 173.818697 \r\nL 228.248007 166.758957 \r\nL 229.180597 168.818048 \r\nL 230.113188 167.053113 \r\nL 231.045778 159.581554 \r\nL 231.978369 155.169217 \r\nL 232.910959 156.992983 \r\nL 233.84355 153.933762 \r\nL 234.77614 146.75636 \r\nL 235.708731 142.991165 \r\nL 236.641321 139.814282 \r\nL 237.573912 137.166879 \r\nL 238.506502 137.461035 \r\nL 239.439093 139.520126 \r\nL 241.304274 139.696619 \r\nL 242.236865 139.578957 \r\nL 244.102046 139.578957 \r\nL 245.034636 137.578697 \r\nL 245.967227 134.754801 \r\nL 246.899817 134.519476 \r\nL 247.832408 140.990905 \r\nL 248.764998 141.108567 \r\nL 249.697589 150.756879 \r\nL 250.630179 145.815061 \r\nL 251.56277 144.873762 \r\nL 252.49536 153.757269 \r\nL 253.427951 147.932983 \r\nL 254.360541 146.697528 \r\nL 255.293132 142.991165 \r\nL 256.225723 145.932723 \r\nL 257.158313 157.110645 \r\nL 258.090904 155.81636 \r\nL 259.023494 166.523632 \r\nL 259.956085 166.229476 \r\nL 260.888675 166.464801 \r\nL 261.821266 166.052983 \r\nL 262.753856 180.937269 \r\nL 263.686447 177.642723 \r\nL 264.619037 176.819087 \r\nL 265.551628 169.171035 \r\nL 266.484218 178.289866 \r\nL 267.416809 173.701035 \r\nL 268.349399 168.229736 \r\nL 269.28199 170.406489 \r\nL 270.21458 181.99623 \r\nL 271.147171 180.819606 \r\nL 272.079762 190.350256 \r\nL 273.012352 187.232204 \r\nL 273.944943 183.52584 \r\nL 274.877533 182.349217 \r\nL 275.810124 180.584282 \r\nL 276.742714 180.584282 \r\nL 277.675305 187.761684 \r\nL 278.607895 184.996619 \r\nL 279.540486 182.937528 \r\nL 280.473076 181.52558 \r\nL 281.405667 175.46597 \r\nL 282.338257 178.172204 \r\nL 283.270848 174.407009 \r\nL 284.203438 183.114022 \r\nL 285.136029 174.818827 \r\nL 286.068619 193.58597 \r\nL 287.00121 184.055321 \r\nL 287.933801 188.585321 \r\nL 288.866391 179.819476 \r\nL 289.798982 172.877399 \r\nL 290.731572 179.584152 \r\nL 291.664163 174.818827 \r\nL 292.596753 173.112723 \r\nL 293.529344 168.876879 \r\nL 294.461934 166.523632 \r\nL 295.394525 166.523632 \r\nL 296.327115 161.640645 \r\nL 297.259706 174.701165 \r\nL 298.192296 178.584022 \r\nL 299.124887 171.583113 \r\nL 300.057477 170.700645 \r\nL 300.990068 172.46558 \r\nL 301.922658 170.700645 \r\nL 302.855249 165.699996 \r\nL 303.78784 161.640645 \r\nL 304.72043 154.875061 \r\nL 305.653021 156.757658 \r\nL 306.585611 154.757399 \r\nL 307.518202 156.522334 \r\nL 308.450792 148.462463 \r\nL 309.383383 157.404801 \r\nL 310.315973 156.404671 \r\nL 311.248564 156.639996 \r\nL 312.181154 159.405061 \r\nL 313.113745 163.817399 \r\nL 314.046335 168.93571 \r\nL 314.978926 170.700645 \r\nL 315.911516 174.289347 \r\nL 316.844107 172.642074 \r\nL 318.709288 160.87584 \r\nL 319.641879 164.464541 \r\nL 321.50706 165.641165 \r\nL 322.43965 164.229217 \r\nL 323.372241 161.934801 \r\nL 324.304831 165.288178 \r\nL 325.237422 174.46584 \r\nL 326.170012 172.818567 \r\nL 327.102603 173.818697 \r\nL 328.035193 178.584022 \r\nL 328.967784 179.172334 \r\nL 329.900374 177.701554 \r\nL 330.832965 171.46545 \r\nL 331.765555 167.111944 \r\nL 332.698146 167.347269 \r\nL 333.630736 167.347269 \r\nL 334.563327 166.523632 \r\nL 335.495917 160.993502 \r\nL 336.428508 156.463502 \r\nL 337.361099 160.934671 \r\nL 338.293689 157.051814 \r\nL 339.22628 154.757399 \r\nL 340.15887 142.991165 \r\nL 341.091461 148.227139 \r\nL 342.956642 138.284671 \r\nL 343.889232 138.402334 \r\nL 344.821823 143.697139 \r\nL 345.754413 143.697139 \r\nL 346.687004 155.992853 \r\nL 347.619594 157.522463 \r\nL 348.552185 147.815321 \r\nL 349.484775 148.050645 \r\nL 350.417366 148.168308 \r\nL 351.349957 151.404022 \r\nL 352.282547 157.993113 \r\nL 354.147728 157.993113 \r\nL 355.080319 159.640386 \r\nL 356.012909 158.110775 \r\nL 357.87809 161.934801 \r\nL 358.810681 162.464282 \r\nL 359.743271 162.581944 \r\nL 361.608452 163.523243 \r\nL 362.541043 166.347139 \r\nL 363.473633 168.759217 \r\nL 364.406224 178.231035 \r\nL 365.338814 174.936489 \r\nL 366.271405 172.583243 \r\nL 367.203995 175.348308 \r\nL 368.136586 175.348308 \r\nL 369.069177 175.583632 \r\nL 370.001767 178.760515 \r\nL 370.934358 175.642463 \r\nL 371.866948 178.642853 \r\nL 372.799539 179.113502 \r\nL 373.732129 189.114801 \r\nL 374.66472 186.702723 \r\nL 375.59731 193.468308 \r\nL 376.529901 193.468308 \r\nL 377.462491 199.880905 \r\nL 378.395082 195.703892 \r\nL 379.327672 197.586489 \r\nL 380.260263 203.293113 \r\nL 381.192853 205.116879 \r\nL 382.125444 207.234801 \r\nL 383.058034 204.469736 \r\nL 383.990625 206.352334 \r\nL 383.990625 206.352334 \r\n\" style=\"fill:none;stroke:#2ca02c;stroke-linecap:square;stroke-width:1.5;\"/>\r\n   </g>\r\n   <g id=\"line2d_24\">\r\n    <path clip-path=\"url(#p38869f13f7)\" d=\"M 49.190625 45.849139 \r\nL 50.123216 35.930204 \r\nL 51.055806 35.03597 \r\nL 51.988397 35.600749 \r\nL 53.853578 38.177554 \r\nL 54.786168 38.154022 \r\nL 55.718759 53.650152 \r\nL 56.651349 50.567399 \r\nL 57.58394 51.34397 \r\nL 58.51653 56.40345 \r\nL 59.449121 47.049295 \r\nL 60.381711 47.614074 \r\nL 61.314302 48.367113 \r\nL 62.246892 65.616412 \r\nL 63.179483 66.051762 \r\nL 64.112073 63.710282 \r\nL 65.044664 64.722178 \r\nL 65.977255 69.640463 \r\nL 66.909845 72.958541 \r\nL 67.842436 84.14823 \r\nL 68.775026 83.936438 \r\nL 69.707617 87.230983 \r\nL 70.640207 98.303009 \r\nL 71.572798 95.679139 \r\nL 72.505388 107.351243 \r\nL 73.437979 109.598593 \r\nL 74.370569 110.657554 \r\nL 75.30316 112.834308 \r\nL 76.23575 102.98597 \r\nL 77.168341 103.150697 \r\nL 78.100931 114.8581 \r\nL 79.033522 114.14036 \r\nL 79.966112 116.081788 \r\nL 80.898703 112.116567 \r\nL 81.831294 121.506022 \r\nL 82.763884 132.625113 \r\nL 83.696475 128.871684 \r\nL 84.629065 107.868957 \r\nL 85.561656 117.952619 \r\nL 86.494246 124.271087 \r\nL 87.426837 132.401554 \r\nL 88.359427 137.402204 \r\nL 89.292018 128.248074 \r\nL 90.224608 141.826308 \r\nL 91.157199 149.403762 \r\nL 92.089789 136.672697 \r\nL 93.02238 151.321658 \r\nL 93.95497 146.850489 \r\nL 94.887561 143.002931 \r\nL 95.820151 131.26023 \r\nL 96.752742 134.895996 \r\nL 97.685333 135.307814 \r\nL 98.617923 147.968282 \r\nL 99.550514 151.227528 \r\nL 100.483104 163.558541 \r\nL 101.415695 158.416697 \r\nL 102.348285 160.06397 \r\nL 103.280876 161.958334 \r\nL 104.213466 164.664567 \r\nL 105.146057 164.49984 \r\nL 106.078647 173.959892 \r\nL 107.011238 157.934282 \r\nL 107.943828 155.710463 \r\nL 108.876419 157.287139 \r\nL 109.809009 151.757009 \r\nL 110.7416 140.484957 \r\nL 111.67419 140.602619 \r\nL 112.606781 148.462463 \r\nL 113.539372 161.005269 \r\nL 114.471962 161.146463 \r\nL 115.404553 168.712152 \r\nL 116.337143 158.25197 \r\nL 117.269734 149.2861 \r\nL 118.202324 152.521814 \r\nL 119.134915 157.87545 \r\nL 120.067505 156.698827 \r\nL 121.000096 151.592282 \r\nL 121.932686 161.605347 \r\nL 122.865277 153.957295 \r\nL 123.797867 148.874282 \r\nL 125.663048 148.874282 \r\nL 126.595639 158.675554 \r\nL 127.528229 159.357996 \r\nL 128.46082 157.887217 \r\nL 129.393411 151.545217 \r\nL 130.326001 151.72171 \r\nL 131.258592 159.122671 \r\nL 132.191182 162.417217 \r\nL 133.123773 168.359165 \r\nL 134.056363 169.688749 \r\nL 134.988954 169.524022 \r\nL 135.921544 162.417217 \r\nL 137.786725 135.966723 \r\nL 138.719316 131.224931 \r\nL 139.651906 125.330048 \r\nL 140.584497 113.963866 \r\nL 141.517087 120.023476 \r\nL 142.449678 125.212386 \r\nL 143.382268 115.540541 \r\nL 144.314859 114.611009 \r\nL 145.24745 115.469944 \r\nL 146.18004 132.189762 \r\nL 147.112631 131.26023 \r\nL 148.045221 134.354749 \r\nL 148.977812 139.555425 \r\nL 149.910402 131.636749 \r\nL 150.842993 121.188334 \r\nL 151.775583 123.671009 \r\nL 152.708174 119.846983 \r\nL 153.640764 127.495035 \r\nL 154.573355 132.848671 \r\nL 155.505945 126.906723 \r\nL 156.438536 142.873502 \r\nL 157.371126 138.261139 \r\nL 158.303717 139.778983 \r\nL 160.168898 131.236697 \r\nL 161.101489 145.050256 \r\nL 162.034079 150.72158 \r\nL 162.96667 145.838593 \r\nL 163.89926 138.94358 \r\nL 164.831851 137.849321 \r\nL 167.629622 145.744463 \r\nL 168.562213 148.062412 \r\nL 169.494803 143.426515 \r\nL 170.427394 135.366645 \r\nL 171.359984 133.731139 \r\nL 172.292575 134.707736 \r\nL 173.225165 136.543269 \r\nL 174.157756 139.731918 \r\nL 175.090346 141.579217 \r\nL 176.022937 145.579736 \r\nL 176.955528 143.767736 \r\nL 177.888118 143.779502 \r\nL 178.820709 153.851399 \r\nL 179.753299 150.603918 \r\nL 180.68589 159.805113 \r\nL 181.61848 166.017684 \r\nL 182.551071 155.110386 \r\nL 183.483661 163.323217 \r\nL 184.416252 167.417866 \r\nL 185.348842 167.370801 \r\nL 186.281433 157.15771 \r\nL 187.214023 159.169736 \r\nL 188.146614 161.958334 \r\nL 189.079204 169.041606 \r\nL 190.011795 178.560489 \r\nL 190.944385 193.068256 \r\nL 191.876976 183.831762 \r\nL 192.809567 188.832412 \r\nL 193.742157 179.325295 \r\nL 194.674748 188.491191 \r\nL 195.607338 183.52584 \r\nL 196.539929 181.384386 \r\nL 197.472519 177.725087 \r\nL 198.40511 192.997658 \r\nL 199.3377 195.621528 \r\nL 200.270291 196.83345 \r\nL 201.202881 197.39823 \r\nL 202.135472 199.504386 \r\nL 203.068062 195.445035 \r\nL 204.000653 194.621399 \r\nL 204.933243 200.351554 \r\nL 205.865834 202.951892 \r\nL 206.798424 208.529087 \r\nL 207.731015 206.705321 \r\nL 208.663606 193.338879 \r\nL 209.596196 190.973866 \r\nL 210.528787 193.409476 \r\nL 211.461377 192.197554 \r\nL 212.393968 191.326853 \r\nL 213.326558 196.351035 \r\nL 214.259149 214.918152 \r\nL 215.191739 208.317295 \r\nL 216.12433 206.517061 \r\nL 217.05692 193.068256 \r\nL 217.989511 198.92784 \r\nL 218.922101 209.388022 \r\nL 219.854692 208.576152 \r\nL 220.787282 207.08184 \r\nL 222.652463 207.128905 \r\nL 224.517645 183.784697 \r\nL 225.450235 179.266463 \r\nL 226.382826 178.313399 \r\nL 227.315416 179.772412 \r\nL 228.248007 179.195866 \r\nL 229.180597 179.137035 \r\nL 230.113188 181.254957 \r\nL 231.045778 170.382957 \r\nL 231.978369 170.688879 \r\nL 232.910959 166.535399 \r\nL 233.84355 157.145944 \r\nL 234.77614 157.557762 \r\nL 235.708731 148.874282 \r\nL 236.641321 146.47397 \r\nL 237.573912 146.391606 \r\nL 238.506502 148.850749 \r\nL 239.439093 147.815321 \r\nL 240.371684 152.404152 \r\nL 241.304274 147.991814 \r\nL 242.236865 147.00345 \r\nL 243.169455 147.368204 \r\nL 244.102046 143.002931 \r\nL 246.899817 143.002931 \r\nL 247.832408 149.886178 \r\nL 248.764998 149.144905 \r\nL 249.697589 157.275373 \r\nL 250.630179 157.87545 \r\nL 251.56277 166.582463 \r\nL 253.427951 166.523632 \r\nL 254.360541 161.15823 \r\nL 255.293132 164.899892 \r\nL 256.225723 167.335502 \r\nL 257.158313 174.795295 \r\nL 258.090904 179.784178 \r\nL 259.023494 180.384256 \r\nL 259.956085 182.772801 \r\nL 260.888675 182.196256 \r\nL 261.821266 181.984463 \r\nL 262.753856 193.221217 \r\nL 263.686447 195.362671 \r\nL 264.619037 184.961321 \r\nL 265.551628 183.443476 \r\nL 266.484218 190.209061 \r\nL 267.416809 181.43145 \r\nL 268.349399 181.007866 \r\nL 269.28199 199.492619 \r\nL 270.21458 195.974515 \r\nL 271.147171 196.139243 \r\nL 272.079762 200.151528 \r\nL 273.012352 203.069554 \r\nL 273.944943 197.527658 \r\nL 274.877533 194.386074 \r\nL 275.810124 194.727295 \r\nL 276.742714 202.104723 \r\nL 277.675305 200.163295 \r\nL 279.540486 200.257425 \r\nL 280.473076 194.386074 \r\nL 281.405667 190.067866 \r\nL 282.338257 194.444905 \r\nL 283.270848 192.185788 \r\nL 284.203438 193.633035 \r\nL 285.136029 192.562308 \r\nL 286.068619 201.45758 \r\nL 287.00121 198.916074 \r\nL 287.933801 201.504645 \r\nL 288.866391 190.067866 \r\nL 289.798982 187.114541 \r\nL 290.731572 189.667814 \r\nL 291.664163 186.549762 \r\nL 292.596753 178.90171 \r\nL 293.529344 175.877788 \r\nL 294.461934 174.736463 \r\nL 295.394525 175.701295 \r\nL 296.327115 174.936489 \r\nL 297.259706 185.561399 \r\nL 298.192296 188.691217 \r\nL 299.124887 182.749269 \r\nL 300.057477 181.890334 \r\nL 300.990068 184.184749 \r\nL 302.855249 172.665606 \r\nL 303.78784 167.276671 \r\nL 304.72043 159.428593 \r\nL 305.653021 164.735165 \r\nL 306.585611 161.958334 \r\nL 307.518202 168.676853 \r\nL 308.450792 160.640515 \r\nL 309.383383 172.983295 \r\nL 310.315973 167.829684 \r\nL 311.248564 171.324256 \r\nL 312.181154 168.723918 \r\nL 313.113745 183.549373 \r\nL 314.046335 184.184749 \r\nL 314.978926 191.432749 \r\nL 315.911516 183.678801 \r\nL 316.844107 184.396541 \r\nL 317.776697 174.065788 \r\nL 319.641879 175.418905 \r\nL 320.574469 175.689528 \r\nL 321.50706 176.383736 \r\nL 323.372241 176.819087 \r\nL 325.237422 186.985113 \r\nL 326.170012 187.549892 \r\nL 327.102603 187.796983 \r\nL 328.035193 191.656308 \r\nL 328.967784 191.938697 \r\nL 329.900374 187.443996 \r\nL 330.832965 179.701814 \r\nL 331.765555 181.596178 \r\nL 334.563327 181.596178 \r\nL 335.495917 175.418905 \r\nL 336.428508 167.100178 \r\nL 337.361099 172.418515 \r\nL 338.293689 172.418515 \r\nL 339.22628 166.041217 \r\nL 340.15887 149.897944 \r\nL 341.091461 151.615814 \r\nL 342.024051 149.509658 \r\nL 342.956642 148.944879 \r\nL 343.889232 149.615554 \r\nL 344.821823 150.427425 \r\nL 345.754413 152.898334 \r\nL 346.687004 161.993632 \r\nL 347.619594 162.8761 \r\nL 348.552185 163.299684 \r\nL 349.484775 160.946437 \r\nL 350.417366 159.852178 \r\nL 351.349957 160.452256 \r\nL 352.282547 166.370671 \r\nL 353.215138 166.570697 \r\nL 354.147728 170.053502 \r\nL 355.080319 167.712022 \r\nL 356.012909 177.477996 \r\nL 356.9455 173.300983 \r\nL 357.87809 172.689139 \r\nL 358.810681 173.55984 \r\nL 359.743271 173.406879 \r\nL 363.473633 176.054282 \r\nL 364.406224 179.890074 \r\nL 365.338814 180.195996 \r\nL 366.271405 182.419814 \r\nL 367.203995 180.101866 \r\nL 368.136586 180.678412 \r\nL 369.069177 184.290645 \r\nL 370.001767 186.05558 \r\nL 370.934358 180.407788 \r\nL 371.866948 182.666905 \r\nL 372.799539 184.478905 \r\nL 373.732129 195.4921 \r\nL 374.66472 197.621788 \r\nL 375.59731 202.940126 \r\nL 376.529901 203.246048 \r\nL 377.462491 206.964178 \r\nL 378.395082 207.79958 \r\nL 379.327672 208.98797 \r\nL 380.260263 212.976723 \r\nL 381.192853 214.14158 \r\nL 382.125444 215.082879 \r\nL 383.058034 214.988749 \r\nL 383.990625 210.61171 \r\nL 383.990625 210.61171 \r\n\" style=\"fill:none;stroke:#d62728;stroke-linecap:square;stroke-width:1.5;\"/>\r\n   </g>\r\n   <g id=\"patch_3\">\r\n    <path d=\"M 49.190625 235.238438 \r\nL 49.190625 17.798438 \r\n\" style=\"fill:none;stroke:#000000;stroke-linecap:square;stroke-linejoin:miter;stroke-width:0.8;\"/>\r\n   </g>\r\n   <g id=\"patch_4\">\r\n    <path d=\"M 383.990625 235.238438 \r\nL 383.990625 17.798438 \r\n\" style=\"fill:none;stroke:#000000;stroke-linecap:square;stroke-linejoin:miter;stroke-width:0.8;\"/>\r\n   </g>\r\n   <g id=\"patch_5\">\r\n    <path d=\"M 49.190625 235.238438 \r\nL 383.990625 235.238438 \r\n\" style=\"fill:none;stroke:#000000;stroke-linecap:square;stroke-linejoin:miter;stroke-width:0.8;\"/>\r\n   </g>\r\n   <g id=\"patch_6\">\r\n    <path d=\"M 49.190625 17.798438 \r\nL 383.990625 17.798438 \r\n\" style=\"fill:none;stroke:#000000;stroke-linecap:square;stroke-linejoin:miter;stroke-width:0.8;\"/>\r\n   </g>\r\n   <g id=\"legend_1\">\r\n    <g id=\"patch_7\">\r\n     <path d=\"M 294.979688 84.510938 \r\nL 376.990625 84.510938 \r\nQ 378.990625 84.510938 378.990625 82.510938 \r\nL 378.990625 24.798438 \r\nQ 378.990625 22.798438 376.990625 22.798438 \r\nL 294.979688 22.798438 \r\nQ 292.979688 22.798438 292.979688 24.798438 \r\nL 292.979688 82.510938 \r\nQ 292.979688 84.510938 294.979688 84.510938 \r\nz\r\n\" style=\"fill:#ffffff;opacity:0.8;stroke:#cccccc;stroke-linejoin:miter;\"/>\r\n    </g>\r\n    <g id=\"line2d_25\">\r\n     <path d=\"M 296.979688 30.896875 \r\nL 316.979688 30.896875 \r\n\" style=\"fill:none;stroke:#1f77b4;stroke-linecap:square;stroke-width:1.5;\"/>\r\n    </g>\r\n    <g id=\"line2d_26\"/>\r\n    <g id=\"text_22\">\r\n     <!-- bitflyer -->\r\n     <defs>\r\n      <path d=\"M 48.6875 27.296875 \r\nQ 48.6875 37.203125 44.609375 42.84375 \r\nQ 40.53125 48.484375 33.40625 48.484375 \r\nQ 26.265625 48.484375 22.1875 42.84375 \r\nQ 18.109375 37.203125 18.109375 27.296875 \r\nQ 18.109375 17.390625 22.1875 11.75 \r\nQ 26.265625 6.109375 33.40625 6.109375 \r\nQ 40.53125 6.109375 44.609375 11.75 \r\nQ 48.6875 17.390625 48.6875 27.296875 \r\nz\r\nM 18.109375 46.390625 \r\nQ 20.953125 51.265625 25.265625 53.625 \r\nQ 29.59375 56 35.59375 56 \r\nQ 45.5625 56 51.78125 48.09375 \r\nQ 58.015625 40.1875 58.015625 27.296875 \r\nQ 58.015625 14.40625 51.78125 6.484375 \r\nQ 45.5625 -1.421875 35.59375 -1.421875 \r\nQ 29.59375 -1.421875 25.265625 0.953125 \r\nQ 20.953125 3.328125 18.109375 8.203125 \r\nL 18.109375 0 \r\nL 9.078125 0 \r\nL 9.078125 75.984375 \r\nL 18.109375 75.984375 \r\nz\r\n\" id=\"DejaVuSans-98\"/>\r\n      <path d=\"M 37.109375 75.984375 \r\nL 37.109375 68.5 \r\nL 28.515625 68.5 \r\nQ 23.6875 68.5 21.796875 66.546875 \r\nQ 19.921875 64.59375 19.921875 59.515625 \r\nL 19.921875 54.6875 \r\nL 34.71875 54.6875 \r\nL 34.71875 47.703125 \r\nL 19.921875 47.703125 \r\nL 19.921875 0 \r\nL 10.890625 0 \r\nL 10.890625 47.703125 \r\nL 2.296875 47.703125 \r\nL 2.296875 54.6875 \r\nL 10.890625 54.6875 \r\nL 10.890625 58.5 \r\nQ 10.890625 67.625 15.140625 71.796875 \r\nQ 19.390625 75.984375 28.609375 75.984375 \r\nz\r\n\" id=\"DejaVuSans-102\"/>\r\n      <path d=\"M 9.421875 75.984375 \r\nL 18.40625 75.984375 \r\nL 18.40625 0 \r\nL 9.421875 0 \r\nz\r\n\" id=\"DejaVuSans-108\"/>\r\n      <path d=\"M 32.171875 -5.078125 \r\nQ 28.375 -14.84375 24.75 -17.8125 \r\nQ 21.140625 -20.796875 15.09375 -20.796875 \r\nL 7.90625 -20.796875 \r\nL 7.90625 -13.28125 \r\nL 13.1875 -13.28125 \r\nQ 16.890625 -13.28125 18.9375 -11.515625 \r\nQ 21 -9.765625 23.484375 -3.21875 \r\nL 25.09375 0.875 \r\nL 2.984375 54.6875 \r\nL 12.5 54.6875 \r\nL 29.59375 11.921875 \r\nL 46.6875 54.6875 \r\nL 56.203125 54.6875 \r\nz\r\n\" id=\"DejaVuSans-121\"/>\r\n      <path d=\"M 41.109375 46.296875 \r\nQ 39.59375 47.171875 37.8125 47.578125 \r\nQ 36.03125 48 33.890625 48 \r\nQ 26.265625 48 22.1875 43.046875 \r\nQ 18.109375 38.09375 18.109375 28.8125 \r\nL 18.109375 0 \r\nL 9.078125 0 \r\nL 9.078125 54.6875 \r\nL 18.109375 54.6875 \r\nL 18.109375 46.1875 \r\nQ 20.953125 51.171875 25.484375 53.578125 \r\nQ 30.03125 56 36.53125 56 \r\nQ 37.453125 56 38.578125 55.875 \r\nQ 39.703125 55.765625 41.0625 55.515625 \r\nz\r\n\" id=\"DejaVuSans-114\"/>\r\n     </defs>\r\n     <g transform=\"translate(324.979688 34.396875)scale(0.1 -0.1)\">\r\n      <use xlink:href=\"#DejaVuSans-98\"/>\r\n      <use x=\"63.476562\" xlink:href=\"#DejaVuSans-105\"/>\r\n      <use x=\"91.259766\" xlink:href=\"#DejaVuSans-116\"/>\r\n      <use x=\"130.46875\" xlink:href=\"#DejaVuSans-102\"/>\r\n      <use x=\"165.673828\" xlink:href=\"#DejaVuSans-108\"/>\r\n      <use x=\"193.457031\" xlink:href=\"#DejaVuSans-121\"/>\r\n      <use x=\"252.636719\" xlink:href=\"#DejaVuSans-101\"/>\r\n      <use x=\"314.160156\" xlink:href=\"#DejaVuSans-114\"/>\r\n     </g>\r\n    </g>\r\n    <g id=\"line2d_27\">\r\n     <path d=\"M 296.979688 45.575 \r\nL 316.979688 45.575 \r\n\" style=\"fill:none;stroke:#ff7f0e;stroke-linecap:square;stroke-width:1.5;\"/>\r\n    </g>\r\n    <g id=\"line2d_28\"/>\r\n    <g id=\"text_23\">\r\n     <!-- liquid -->\r\n     <defs>\r\n      <path d=\"M 14.796875 27.296875 \r\nQ 14.796875 17.390625 18.875 11.75 \r\nQ 22.953125 6.109375 30.078125 6.109375 \r\nQ 37.203125 6.109375 41.296875 11.75 \r\nQ 45.40625 17.390625 45.40625 27.296875 \r\nQ 45.40625 37.203125 41.296875 42.84375 \r\nQ 37.203125 48.484375 30.078125 48.484375 \r\nQ 22.953125 48.484375 18.875 42.84375 \r\nQ 14.796875 37.203125 14.796875 27.296875 \r\nz\r\nM 45.40625 8.203125 \r\nQ 42.578125 3.328125 38.25 0.953125 \r\nQ 33.9375 -1.421875 27.875 -1.421875 \r\nQ 17.96875 -1.421875 11.734375 6.484375 \r\nQ 5.515625 14.40625 5.515625 27.296875 \r\nQ 5.515625 40.1875 11.734375 48.09375 \r\nQ 17.96875 56 27.875 56 \r\nQ 33.9375 56 38.25 53.625 \r\nQ 42.578125 51.265625 45.40625 46.390625 \r\nL 45.40625 54.6875 \r\nL 54.390625 54.6875 \r\nL 54.390625 -20.796875 \r\nL 45.40625 -20.796875 \r\nz\r\n\" id=\"DejaVuSans-113\"/>\r\n      <path d=\"M 8.5 21.578125 \r\nL 8.5 54.6875 \r\nL 17.484375 54.6875 \r\nL 17.484375 21.921875 \r\nQ 17.484375 14.15625 20.5 10.265625 \r\nQ 23.53125 6.390625 29.59375 6.390625 \r\nQ 36.859375 6.390625 41.078125 11.03125 \r\nQ 45.3125 15.671875 45.3125 23.6875 \r\nL 45.3125 54.6875 \r\nL 54.296875 54.6875 \r\nL 54.296875 0 \r\nL 45.3125 0 \r\nL 45.3125 8.40625 \r\nQ 42.046875 3.421875 37.71875 1 \r\nQ 33.40625 -1.421875 27.6875 -1.421875 \r\nQ 18.265625 -1.421875 13.375 4.4375 \r\nQ 8.5 10.296875 8.5 21.578125 \r\nz\r\nM 31.109375 56 \r\nz\r\n\" id=\"DejaVuSans-117\"/>\r\n      <path d=\"M 45.40625 46.390625 \r\nL 45.40625 75.984375 \r\nL 54.390625 75.984375 \r\nL 54.390625 0 \r\nL 45.40625 0 \r\nL 45.40625 8.203125 \r\nQ 42.578125 3.328125 38.25 0.953125 \r\nQ 33.9375 -1.421875 27.875 -1.421875 \r\nQ 17.96875 -1.421875 11.734375 6.484375 \r\nQ 5.515625 14.40625 5.515625 27.296875 \r\nQ 5.515625 40.1875 11.734375 48.09375 \r\nQ 17.96875 56 27.875 56 \r\nQ 33.9375 56 38.25 53.625 \r\nQ 42.578125 51.265625 45.40625 46.390625 \r\nz\r\nM 14.796875 27.296875 \r\nQ 14.796875 17.390625 18.875 11.75 \r\nQ 22.953125 6.109375 30.078125 6.109375 \r\nQ 37.203125 6.109375 41.296875 11.75 \r\nQ 45.40625 17.390625 45.40625 27.296875 \r\nQ 45.40625 37.203125 41.296875 42.84375 \r\nQ 37.203125 48.484375 30.078125 48.484375 \r\nQ 22.953125 48.484375 18.875 42.84375 \r\nQ 14.796875 37.203125 14.796875 27.296875 \r\nz\r\n\" id=\"DejaVuSans-100\"/>\r\n     </defs>\r\n     <g transform=\"translate(324.979688 49.075)scale(0.1 -0.1)\">\r\n      <use xlink:href=\"#DejaVuSans-108\"/>\r\n      <use x=\"27.783203\" xlink:href=\"#DejaVuSans-105\"/>\r\n      <use x=\"55.566406\" xlink:href=\"#DejaVuSans-113\"/>\r\n      <use x=\"119.042969\" xlink:href=\"#DejaVuSans-117\"/>\r\n      <use x=\"182.421875\" xlink:href=\"#DejaVuSans-105\"/>\r\n      <use x=\"210.205078\" xlink:href=\"#DejaVuSans-100\"/>\r\n     </g>\r\n    </g>\r\n    <g id=\"line2d_29\">\r\n     <path d=\"M 296.979688 60.253125 \r\nL 316.979688 60.253125 \r\n\" style=\"fill:none;stroke:#2ca02c;stroke-linecap:square;stroke-width:1.5;\"/>\r\n    </g>\r\n    <g id=\"line2d_30\"/>\r\n    <g id=\"text_24\">\r\n     <!-- zaif -->\r\n     <defs>\r\n      <path d=\"M 5.515625 54.6875 \r\nL 48.1875 54.6875 \r\nL 48.1875 46.484375 \r\nL 14.40625 7.171875 \r\nL 48.1875 7.171875 \r\nL 48.1875 0 \r\nL 4.296875 0 \r\nL 4.296875 8.203125 \r\nL 38.09375 47.515625 \r\nL 5.515625 47.515625 \r\nz\r\n\" id=\"DejaVuSans-122\"/>\r\n      <path d=\"M 34.28125 27.484375 \r\nQ 23.390625 27.484375 19.1875 25 \r\nQ 14.984375 22.515625 14.984375 16.5 \r\nQ 14.984375 11.71875 18.140625 8.90625 \r\nQ 21.296875 6.109375 26.703125 6.109375 \r\nQ 34.1875 6.109375 38.703125 11.40625 \r\nQ 43.21875 16.703125 43.21875 25.484375 \r\nL 43.21875 27.484375 \r\nz\r\nM 52.203125 31.203125 \r\nL 52.203125 0 \r\nL 43.21875 0 \r\nL 43.21875 8.296875 \r\nQ 40.140625 3.328125 35.546875 0.953125 \r\nQ 30.953125 -1.421875 24.3125 -1.421875 \r\nQ 15.921875 -1.421875 10.953125 3.296875 \r\nQ 6 8.015625 6 15.921875 \r\nQ 6 25.140625 12.171875 29.828125 \r\nQ 18.359375 34.515625 30.609375 34.515625 \r\nL 43.21875 34.515625 \r\nL 43.21875 35.40625 \r\nQ 43.21875 41.609375 39.140625 45 \r\nQ 35.0625 48.390625 27.6875 48.390625 \r\nQ 23 48.390625 18.546875 47.265625 \r\nQ 14.109375 46.140625 10.015625 43.890625 \r\nL 10.015625 52.203125 \r\nQ 14.9375 54.109375 19.578125 55.046875 \r\nQ 24.21875 56 28.609375 56 \r\nQ 40.484375 56 46.34375 49.84375 \r\nQ 52.203125 43.703125 52.203125 31.203125 \r\nz\r\n\" id=\"DejaVuSans-97\"/>\r\n     </defs>\r\n     <g transform=\"translate(324.979688 63.753125)scale(0.1 -0.1)\">\r\n      <use xlink:href=\"#DejaVuSans-122\"/>\r\n      <use x=\"52.490234\" xlink:href=\"#DejaVuSans-97\"/>\r\n      <use x=\"113.769531\" xlink:href=\"#DejaVuSans-105\"/>\r\n      <use x=\"141.552734\" xlink:href=\"#DejaVuSans-102\"/>\r\n     </g>\r\n    </g>\r\n    <g id=\"line2d_31\">\r\n     <path d=\"M 296.979688 74.93125 \r\nL 316.979688 74.93125 \r\n\" style=\"fill:none;stroke:#d62728;stroke-linecap:square;stroke-width:1.5;\"/>\r\n    </g>\r\n    <g id=\"line2d_32\"/>\r\n    <g id=\"text_25\">\r\n     <!-- coincheck -->\r\n     <defs>\r\n      <path d=\"M 48.78125 52.59375 \r\nL 48.78125 44.1875 \r\nQ 44.96875 46.296875 41.140625 47.34375 \r\nQ 37.3125 48.390625 33.40625 48.390625 \r\nQ 24.65625 48.390625 19.8125 42.84375 \r\nQ 14.984375 37.3125 14.984375 27.296875 \r\nQ 14.984375 17.28125 19.8125 11.734375 \r\nQ 24.65625 6.203125 33.40625 6.203125 \r\nQ 37.3125 6.203125 41.140625 7.25 \r\nQ 44.96875 8.296875 48.78125 10.40625 \r\nL 48.78125 2.09375 \r\nQ 45.015625 0.34375 40.984375 -0.53125 \r\nQ 36.96875 -1.421875 32.421875 -1.421875 \r\nQ 20.0625 -1.421875 12.78125 6.34375 \r\nQ 5.515625 14.109375 5.515625 27.296875 \r\nQ 5.515625 40.671875 12.859375 48.328125 \r\nQ 20.21875 56 33.015625 56 \r\nQ 37.15625 56 41.109375 55.140625 \r\nQ 45.0625 54.296875 48.78125 52.59375 \r\nz\r\n\" id=\"DejaVuSans-99\"/>\r\n      <path d=\"M 30.609375 48.390625 \r\nQ 23.390625 48.390625 19.1875 42.75 \r\nQ 14.984375 37.109375 14.984375 27.296875 \r\nQ 14.984375 17.484375 19.15625 11.84375 \r\nQ 23.34375 6.203125 30.609375 6.203125 \r\nQ 37.796875 6.203125 41.984375 11.859375 \r\nQ 46.1875 17.53125 46.1875 27.296875 \r\nQ 46.1875 37.015625 41.984375 42.703125 \r\nQ 37.796875 48.390625 30.609375 48.390625 \r\nz\r\nM 30.609375 56 \r\nQ 42.328125 56 49.015625 48.375 \r\nQ 55.71875 40.765625 55.71875 27.296875 \r\nQ 55.71875 13.875 49.015625 6.21875 \r\nQ 42.328125 -1.421875 30.609375 -1.421875 \r\nQ 18.84375 -1.421875 12.171875 6.21875 \r\nQ 5.515625 13.875 5.515625 27.296875 \r\nQ 5.515625 40.765625 12.171875 48.375 \r\nQ 18.84375 56 30.609375 56 \r\nz\r\n\" id=\"DejaVuSans-111\"/>\r\n      <path d=\"M 54.890625 33.015625 \r\nL 54.890625 0 \r\nL 45.90625 0 \r\nL 45.90625 32.71875 \r\nQ 45.90625 40.484375 42.875 44.328125 \r\nQ 39.84375 48.1875 33.796875 48.1875 \r\nQ 26.515625 48.1875 22.3125 43.546875 \r\nQ 18.109375 38.921875 18.109375 30.90625 \r\nL 18.109375 0 \r\nL 9.078125 0 \r\nL 9.078125 54.6875 \r\nL 18.109375 54.6875 \r\nL 18.109375 46.1875 \r\nQ 21.34375 51.125 25.703125 53.5625 \r\nQ 30.078125 56 35.796875 56 \r\nQ 45.21875 56 50.046875 50.171875 \r\nQ 54.890625 44.34375 54.890625 33.015625 \r\nz\r\n\" id=\"DejaVuSans-110\"/>\r\n      <path d=\"M 54.890625 33.015625 \r\nL 54.890625 0 \r\nL 45.90625 0 \r\nL 45.90625 32.71875 \r\nQ 45.90625 40.484375 42.875 44.328125 \r\nQ 39.84375 48.1875 33.796875 48.1875 \r\nQ 26.515625 48.1875 22.3125 43.546875 \r\nQ 18.109375 38.921875 18.109375 30.90625 \r\nL 18.109375 0 \r\nL 9.078125 0 \r\nL 9.078125 75.984375 \r\nL 18.109375 75.984375 \r\nL 18.109375 46.1875 \r\nQ 21.34375 51.125 25.703125 53.5625 \r\nQ 30.078125 56 35.796875 56 \r\nQ 45.21875 56 50.046875 50.171875 \r\nQ 54.890625 44.34375 54.890625 33.015625 \r\nz\r\n\" id=\"DejaVuSans-104\"/>\r\n      <path d=\"M 9.078125 75.984375 \r\nL 18.109375 75.984375 \r\nL 18.109375 31.109375 \r\nL 44.921875 54.6875 \r\nL 56.390625 54.6875 \r\nL 27.390625 29.109375 \r\nL 57.625 0 \r\nL 45.90625 0 \r\nL 18.109375 26.703125 \r\nL 18.109375 0 \r\nL 9.078125 0 \r\nz\r\n\" id=\"DejaVuSans-107\"/>\r\n     </defs>\r\n     <g transform=\"translate(324.979688 78.43125)scale(0.1 -0.1)\">\r\n      <use xlink:href=\"#DejaVuSans-99\"/>\r\n      <use x=\"54.980469\" xlink:href=\"#DejaVuSans-111\"/>\r\n      <use x=\"116.162109\" xlink:href=\"#DejaVuSans-105\"/>\r\n      <use x=\"143.945312\" xlink:href=\"#DejaVuSans-110\"/>\r\n      <use x=\"207.324219\" xlink:href=\"#DejaVuSans-99\"/>\r\n      <use x=\"262.304688\" xlink:href=\"#DejaVuSans-104\"/>\r\n      <use x=\"325.683594\" xlink:href=\"#DejaVuSans-101\"/>\r\n      <use x=\"387.207031\" xlink:href=\"#DejaVuSans-99\"/>\r\n      <use x=\"442.1875\" xlink:href=\"#DejaVuSans-107\"/>\r\n     </g>\r\n    </g>\r\n   </g>\r\n  </g>\r\n </g>\r\n <defs>\r\n  <clipPath id=\"p38869f13f7\">\r\n   <rect height=\"217.44\" width=\"334.8\" x=\"49.190625\" y=\"17.798438\"/>\r\n  </clipPath>\r\n </defs>\r\n</svg>\r\n",
      "image/png": "[encoded data removed]"
     },
     "metadata": {
      "needs_background": "light"
     }
    }
   ],
   "source": [
    "prices.plot(x='time',y=EXC)"
   ]
  },
  {
   "cell_type": "code",
   "execution_count": 14,
   "metadata": {},
   "outputs": [
    {
     "output_type": "execute_result",
     "data": {
      "text/plain": [
       "                 time   bitflyer     liquid       zaif  coincheck\n",
       "0 2020-11-14 00:00:10  1701582.0  1700479.0  1702000.0  1701256.0"
      ],
      "text/html": "<div>\n<style scoped>\n    .dataframe tbody tr th:only-of-type {\n        vertical-align: middle;\n    }\n\n    .dataframe tbody tr th {\n        vertical-align: top;\n    }\n\n    .dataframe thead th {\n        text-align: right;\n    }\n</style>\n<table border=\"1\" class=\"dataframe\">\n  <thead>\n    <tr style=\"text-align: right;\">\n      <th></th>\n      <th>time</th>\n      <th>bitflyer</th>\n      <th>liquid</th>\n      <th>zaif</th>\n      <th>coincheck</th>\n    </tr>\n  </thead>\n  <tbody>\n    <tr>\n      <th>0</th>\n      <td>2020-11-14 00:00:10</td>\n      <td>1701582.0</td>\n      <td>1700479.0</td>\n      <td>1702000.0</td>\n      <td>1701256.0</td>\n    </tr>\n  </tbody>\n</table>\n</div>"
     },
     "metadata": {},
     "execution_count": 14
    }
   ],
   "source": [
    "c = 0\n",
    "prices[c:c+1]"
   ]
  },
  {
   "cell_type": "code",
   "execution_count": 15,
   "metadata": {},
   "outputs": [],
   "source": [
    "for ex in EXC:\n",
    "    prices = mydb.get(ex, baseTime, curTime + 10)\n",
    "    res = ml(lambda p:p['asks'], prices)"
   ]
  },
  {
   "cell_type": "code",
   "execution_count": 30,
   "metadata": {},
   "outputs": [],
   "source": [
    "import pandas as pd\n",
    "NONE = 0\n",
    "BUY = 1\n",
    "SELL = 2\n",
    "\n",
    "BUYAMOUNT = 0.01\n",
    "EXLEN = len(EXC)\n",
    "\n",
    "class BTCTradeEnv(py_environment.PyEnvironment):\n",
    "\n",
    "  def __init__(self):\n",
    "    self._action_spec = array_spec.BoundedArraySpec(\n",
    "        shape=(), dtype=np.int32, minimum=0, maximum=8, name='action')\n",
    "    self._observation_spec = array_spec.BoundedArraySpec(\n",
    "        shape=(1,968), dtype=np.float32, minimum=0, maximum=10000000, name='observation')\n",
    "    # 残高1万円~50万円, 0.01BTC~0.5BTC\n",
    "    # 過去１分間(3*20)の価格\n",
    "    self._episode_ended = False\n",
    "    self._asks = {}\n",
    "    self._bids = {}\n",
    "    self._maxCnt = 0\n",
    "    for ex in EXC:\n",
    "      prices = mydb.get(ex, baseTime, curTime + 60*60*24)\n",
    "      # example for self._asks[ex]\n",
    "      # [[[1701256.0, 0.0001], [1701501.0, 0.005], [1701505.0, 0.01015336]],\n",
    "      # [[1701316.0, 0.01], [1701494.0, 0.01275137], [1701500.0, 0.02]],\n",
    "      # [[1702132.0, 0.02440992], [1702180.0, 0.1], [1702290.0, 0.08]]]\n",
    "      self._asks[ex] = ml(lambda p:p['asks'], prices)\n",
    "      self._bids[ex] = ml(lambda p:p['bids'], prices)\n",
    "      self._maxCnt = max([self._maxCnt, len(self._asks[ex])])\n",
    "    self._maxCnt = len(self._asks[head]) - 1\n",
    "    self._initVal()\n",
    "\n",
    "  def action_spec(self):\n",
    "    return self._action_spec\n",
    "\n",
    "  def observation_spec(self):\n",
    "    return self._observation_spec\n",
    "\n",
    "  def _reset(self):\n",
    "    self._episode_ended = False\n",
    "    self._initVal()\n",
    "    return ts.restart(np.array([self._state], dtype=np.float32))\n",
    "  \n",
    "  def _initVal(self):\n",
    "    # ランダム時間から開始\n",
    "    self._stepCnt = np.random.randint(0, self._maxCnt-129)\n",
    "    self._startCnt = self._stepCnt\n",
    "    # ランダムな所持金で開始\n",
    "    jpy = np.random.randint(10000, 1000000, EXLEN).tolist()\n",
    "    btc = (abs(np.random.randn(EXLEN))+0.01).tolist()\n",
    "    self._state = jpy + btc + [0]*960\n",
    "    self._step(0)\n",
    "    self._initJPY = self._valuationJPY(self._state)\n",
    "    self._initBTC = self._valuationBTC(self._state)\n",
    "  \n",
    "  # 円換算評価額\n",
    "  def _valuationJPY(self, state):\n",
    "    total = 0\n",
    "    for i in range(EXLEN):\n",
    "      jpy = self._state[i]\n",
    "      btc = self._state[EXLEN + i]\n",
    "      ask = self._state[int(EXLEN*2)]\n",
    "      total += jpy + btc * ask\n",
    "    return total\n",
    "\n",
    "  # BTC換算評価額\n",
    "  def _valuationBTC(self, state):\n",
    "    total = 0\n",
    "    for i in range(EXLEN):\n",
    "      jpy = self._state[i]\n",
    "      btc = self._state[EXLEN + i]\n",
    "      ask = self._state[int(EXLEN*2)]\n",
    "      total += btc\n",
    "      if ask > 0:\n",
    "        total += jpy / ask\n",
    "    return total\n",
    "\n",
    "  def _step(self, action):\n",
    "\n",
    "    if self._episode_ended:\n",
    "      # The last action ended the episode. Ignore the current action and start\n",
    "      # a new episode.\n",
    "      return self.reset()\n",
    "\n",
    "    cnt = self._stepCnt\n",
    "    # stateから情報を抜出\n",
    "    jpyBal = self._state[0:EXLEN]\n",
    "    btcBal = self._state[EXLEN:EXLEN*2]\n",
    "    board = self._state[EXLEN*2:EXLEN*2+960]\n",
    "\n",
    "    # 1フレーム前の板情報を反映\n",
    "    frameSize = int(len(board) / 20)\n",
    "    board[frameSize:len(board)] = board[0:(len(board)-frameSize)]\n",
    "\n",
    "    # 最新板情報を更新\n",
    "    cur = 0\n",
    "    for ex in EXC:\n",
    "      for ab in [self._asks, self._bids]:\n",
    "        for dep in range(3):\n",
    "          # 金額\n",
    "          board[cur] = ab[ex][cnt:cnt+1][0][dep][0]\n",
    "          cur += 1\n",
    "          # 量\n",
    "          board[cur] = ab[ex][cnt:cnt+1][0][dep][1]\n",
    "          cur += 1\n",
    "\n",
    "    # Make sure episodes don't go on forever.\n",
    "    if action != 0:\n",
    "      # 売買 次のフレームの価格で購入できる\n",
    "      exidx = (action - 1) % EXLEN\n",
    "      ex = EXC[exidx]\n",
    "      buy = action <= EXLEN\n",
    "      if buy:\n",
    "        target = self._asks[ex][cnt+1:cnt+2][0]\n",
    "        # 買える分だけ買う\n",
    "        remain = BUYAMOUNT\n",
    "        for dep in range(3):\n",
    "          price = target[dep][0]\n",
    "          amount = target[dep][1]\n",
    "          if remain <= amount:\n",
    "            amount = remain\n",
    "          jpy = price * amount\n",
    "          if jpyBal[exidx] < jpy:\n",
    "            break\n",
    "          jpyBal[exidx] -= jpy\n",
    "          btcBal[exidx] += amount\n",
    "          remain -= amount\n",
    "          if remain <= 0:\n",
    "            break\n",
    "      else:\n",
    "        target = self._bids[ex][cnt+1:cnt+2][0]\n",
    "        # 売れる分だけ売る\n",
    "        remain = BUYAMOUNT\n",
    "        for dep in range(3):\n",
    "          price = target[dep][0]\n",
    "          amount = target[dep][1]\n",
    "          if remain <= amount:\n",
    "            amount = remain\n",
    "          if btcBal[exidx] < amount:\n",
    "            break\n",
    "          jpyBal[exidx] += price * amount\n",
    "          btcBal[exidx] -= amount\n",
    "          remain -= amount\n",
    "          if remain <= 0:\n",
    "            break\n",
    "\n",
    "    # state更新\n",
    "    self._state = jpyBal + btcBal + board\n",
    "\n",
    "    # 3秒時間を進める\n",
    "    self._stepCnt += 1\n",
    "    if self._stepCnt >= self._maxCnt:\n",
    "      self._episode_ended = True\n",
    "\n",
    "    # 最大128フレームで終了\n",
    "    frameCnt = self._stepCnt - self._startCnt\n",
    "    if frameCnt > 128:\n",
    "      self._episode_ended = True\n",
    "    \n",
    "    reward = 1\n",
    "    if frameCnt > 1:\n",
    "      jpy = self._valuationJPY(self._state)\n",
    "      btc = self._valuationBTC(self._state)\n",
    "      reward = jpy / self._initJPY + btc / self._initBTC - 2\n",
    "\n",
    "    # 5%所持金が減ったら強制終了\n",
    "    if reward < -0.1:\n",
    "      self._episode_ended = True\n",
    "\n",
    "    if self._episode_ended:\n",
    "      # 初期所持金から何倍増えたかが報酬\n",
    "      return ts.termination(np.array([self._state], dtype=np.float32), reward)\n",
    "    else:\n",
    "      return ts.transition(\n",
    "          np.array([self._state], dtype=np.float32), reward=0.0, discount=1.0)"
   ]
  },
  {
   "cell_type": "code",
   "execution_count": 31,
   "metadata": {
    "tags": []
   },
   "outputs": [
    {
     "output_type": "error",
     "ename": "AttributeError",
     "evalue": "'BTCTradeEnv' object has no attribute '_initJPY'",
     "traceback": [
      "\u001b[1;31m---------------------------------------------------------------------------\u001b[0m",
      "\u001b[1;31mAttributeError\u001b[0m                            Traceback (most recent call last)",
      "\u001b[1;32m<ipython-input-31-6a9266213db9>\u001b[0m in \u001b[0;36m<module>\u001b[1;34m\u001b[0m\n\u001b[1;32m----> 1\u001b[1;33m \u001b[0menvironment\u001b[0m \u001b[1;33m=\u001b[0m \u001b[0mBTCTradeEnv\u001b[0m\u001b[1;33m(\u001b[0m\u001b[1;33m)\u001b[0m\u001b[1;33m\u001b[0m\u001b[1;33m\u001b[0m\u001b[0m\n\u001b[0m\u001b[0;32m      2\u001b[0m \u001b[0mutils\u001b[0m\u001b[1;33m.\u001b[0m\u001b[0mvalidate_py_environment\u001b[0m\u001b[1;33m(\u001b[0m\u001b[0menvironment\u001b[0m\u001b[1;33m,\u001b[0m \u001b[0mepisodes\u001b[0m\u001b[1;33m=\u001b[0m\u001b[1;36m1\u001b[0m\u001b[1;33m)\u001b[0m\u001b[1;33m\u001b[0m\u001b[1;33m\u001b[0m\u001b[0m\n",
      "\u001b[1;32m<ipython-input-30-ef340fa159a0>\u001b[0m in \u001b[0;36m__init__\u001b[1;34m(self)\u001b[0m\n\u001b[0;32m     30\u001b[0m       \u001b[0mself\u001b[0m\u001b[1;33m.\u001b[0m\u001b[0m_maxCnt\u001b[0m \u001b[1;33m=\u001b[0m \u001b[0mmax\u001b[0m\u001b[1;33m(\u001b[0m\u001b[1;33m[\u001b[0m\u001b[0mself\u001b[0m\u001b[1;33m.\u001b[0m\u001b[0m_maxCnt\u001b[0m\u001b[1;33m,\u001b[0m \u001b[0mlen\u001b[0m\u001b[1;33m(\u001b[0m\u001b[0mself\u001b[0m\u001b[1;33m.\u001b[0m\u001b[0m_asks\u001b[0m\u001b[1;33m[\u001b[0m\u001b[0mex\u001b[0m\u001b[1;33m]\u001b[0m\u001b[1;33m)\u001b[0m\u001b[1;33m]\u001b[0m\u001b[1;33m)\u001b[0m\u001b[1;33m\u001b[0m\u001b[1;33m\u001b[0m\u001b[0m\n\u001b[0;32m     31\u001b[0m     \u001b[0mself\u001b[0m\u001b[1;33m.\u001b[0m\u001b[0m_maxCnt\u001b[0m \u001b[1;33m=\u001b[0m \u001b[0mlen\u001b[0m\u001b[1;33m(\u001b[0m\u001b[0mself\u001b[0m\u001b[1;33m.\u001b[0m\u001b[0m_asks\u001b[0m\u001b[1;33m[\u001b[0m\u001b[0mhead\u001b[0m\u001b[1;33m]\u001b[0m\u001b[1;33m)\u001b[0m \u001b[1;33m-\u001b[0m \u001b[1;36m1\u001b[0m\u001b[1;33m\u001b[0m\u001b[1;33m\u001b[0m\u001b[0m\n\u001b[1;32m---> 32\u001b[1;33m     \u001b[0mself\u001b[0m\u001b[1;33m.\u001b[0m\u001b[0m_initVal\u001b[0m\u001b[1;33m(\u001b[0m\u001b[1;33m)\u001b[0m\u001b[1;33m\u001b[0m\u001b[1;33m\u001b[0m\u001b[0m\n\u001b[0m\u001b[0;32m     33\u001b[0m \u001b[1;33m\u001b[0m\u001b[0m\n\u001b[0;32m     34\u001b[0m   \u001b[1;32mdef\u001b[0m \u001b[0maction_spec\u001b[0m\u001b[1;33m(\u001b[0m\u001b[0mself\u001b[0m\u001b[1;33m)\u001b[0m\u001b[1;33m:\u001b[0m\u001b[1;33m\u001b[0m\u001b[1;33m\u001b[0m\u001b[0m\n",
      "\u001b[1;32m<ipython-input-30-ef340fa159a0>\u001b[0m in \u001b[0;36m_initVal\u001b[1;34m(self)\u001b[0m\n\u001b[0;32m     51\u001b[0m     \u001b[0mbtc\u001b[0m \u001b[1;33m=\u001b[0m \u001b[1;33m(\u001b[0m\u001b[0mabs\u001b[0m\u001b[1;33m(\u001b[0m\u001b[0mnp\u001b[0m\u001b[1;33m.\u001b[0m\u001b[0mrandom\u001b[0m\u001b[1;33m.\u001b[0m\u001b[0mrandn\u001b[0m\u001b[1;33m(\u001b[0m\u001b[0mEXLEN\u001b[0m\u001b[1;33m)\u001b[0m\u001b[1;33m)\u001b[0m\u001b[1;33m+\u001b[0m\u001b[1;36m0.01\u001b[0m\u001b[1;33m)\u001b[0m\u001b[1;33m.\u001b[0m\u001b[0mtolist\u001b[0m\u001b[1;33m(\u001b[0m\u001b[1;33m)\u001b[0m\u001b[1;33m\u001b[0m\u001b[1;33m\u001b[0m\u001b[0m\n\u001b[0;32m     52\u001b[0m     \u001b[0mself\u001b[0m\u001b[1;33m.\u001b[0m\u001b[0m_state\u001b[0m \u001b[1;33m=\u001b[0m \u001b[0mjpy\u001b[0m \u001b[1;33m+\u001b[0m \u001b[0mbtc\u001b[0m \u001b[1;33m+\u001b[0m \u001b[1;33m[\u001b[0m\u001b[1;36m0\u001b[0m\u001b[1;33m]\u001b[0m\u001b[1;33m*\u001b[0m\u001b[1;36m960\u001b[0m\u001b[1;33m\u001b[0m\u001b[1;33m\u001b[0m\u001b[0m\n\u001b[1;32m---> 53\u001b[1;33m     \u001b[0mself\u001b[0m\u001b[1;33m.\u001b[0m\u001b[0m_step\u001b[0m\u001b[1;33m(\u001b[0m\u001b[1;36m0\u001b[0m\u001b[1;33m)\u001b[0m\u001b[1;33m\u001b[0m\u001b[1;33m\u001b[0m\u001b[0m\n\u001b[0m\u001b[0;32m     54\u001b[0m     \u001b[0mself\u001b[0m\u001b[1;33m.\u001b[0m\u001b[0m_initJPY\u001b[0m \u001b[1;33m=\u001b[0m \u001b[0mself\u001b[0m\u001b[1;33m.\u001b[0m\u001b[0m_valuationJPY\u001b[0m\u001b[1;33m(\u001b[0m\u001b[0mself\u001b[0m\u001b[1;33m.\u001b[0m\u001b[0m_state\u001b[0m\u001b[1;33m)\u001b[0m\u001b[1;33m\u001b[0m\u001b[1;33m\u001b[0m\u001b[0m\n\u001b[0;32m     55\u001b[0m     \u001b[0mself\u001b[0m\u001b[1;33m.\u001b[0m\u001b[0m_initBTC\u001b[0m \u001b[1;33m=\u001b[0m \u001b[0mself\u001b[0m\u001b[1;33m.\u001b[0m\u001b[0m_valuationBTC\u001b[0m\u001b[1;33m(\u001b[0m\u001b[0mself\u001b[0m\u001b[1;33m.\u001b[0m\u001b[0m_state\u001b[0m\u001b[1;33m)\u001b[0m\u001b[1;33m\u001b[0m\u001b[1;33m\u001b[0m\u001b[0m\n",
      "\u001b[1;32m<ipython-input-30-ef340fa159a0>\u001b[0m in \u001b[0;36m_step\u001b[1;34m(self, action)\u001b[0m\n\u001b[0;32m    162\u001b[0m       \u001b[0mjpy\u001b[0m \u001b[1;33m=\u001b[0m \u001b[0mself\u001b[0m\u001b[1;33m.\u001b[0m\u001b[0m_valuationJPY\u001b[0m\u001b[1;33m(\u001b[0m\u001b[0mself\u001b[0m\u001b[1;33m.\u001b[0m\u001b[0m_state\u001b[0m\u001b[1;33m)\u001b[0m\u001b[1;33m\u001b[0m\u001b[1;33m\u001b[0m\u001b[0m\n\u001b[0;32m    163\u001b[0m       \u001b[0mbtc\u001b[0m \u001b[1;33m=\u001b[0m \u001b[0mself\u001b[0m\u001b[1;33m.\u001b[0m\u001b[0m_valuationBTC\u001b[0m\u001b[1;33m(\u001b[0m\u001b[0mself\u001b[0m\u001b[1;33m.\u001b[0m\u001b[0m_state\u001b[0m\u001b[1;33m)\u001b[0m\u001b[1;33m\u001b[0m\u001b[1;33m\u001b[0m\u001b[0m\n\u001b[1;32m--> 164\u001b[1;33m       \u001b[0mreward\u001b[0m \u001b[1;33m=\u001b[0m \u001b[0mjpy\u001b[0m \u001b[1;33m/\u001b[0m \u001b[0mself\u001b[0m\u001b[1;33m.\u001b[0m\u001b[0m_initJPY\u001b[0m \u001b[1;33m+\u001b[0m \u001b[0mbtc\u001b[0m \u001b[1;33m/\u001b[0m \u001b[0mself\u001b[0m\u001b[1;33m.\u001b[0m\u001b[0m_initBTC\u001b[0m \u001b[1;33m-\u001b[0m \u001b[1;36m2\u001b[0m\u001b[1;33m\u001b[0m\u001b[1;33m\u001b[0m\u001b[0m\n\u001b[0m\u001b[0;32m    165\u001b[0m \u001b[1;33m\u001b[0m\u001b[0m\n\u001b[0;32m    166\u001b[0m     \u001b[1;31m# 5%所持金が減ったら強制終了\u001b[0m\u001b[1;33m\u001b[0m\u001b[1;33m\u001b[0m\u001b[1;33m\u001b[0m\u001b[0m\n",
      "\u001b[1;31mAttributeError\u001b[0m: 'BTCTradeEnv' object has no attribute '_initJPY'"
     ]
    }
   ],
   "source": [
    "environment = BTCTradeEnv()\n",
    "utils.validate_py_environment(environment, episodes=1)"
   ]
  },
  {
   "cell_type": "code",
   "execution_count": 18,
   "metadata": {},
   "outputs": [
    {
     "output_type": "execute_result",
     "data": {
      "text/plain": [
       "[275856,\n",
       " 871228,\n",
       " 698017,\n",
       " 170396,\n",
       " 0.8614019445682229,\n",
       " 0.9256111302174068,\n",
       " 0.8113972030583734,\n",
       " 1.0262824218292126]"
      ]
     },
     "metadata": {},
     "execution_count": 18
    }
   ],
   "source": [
    "environment._state[0:8]"
   ]
  },
  {
   "cell_type": "code",
   "execution_count": 19,
   "metadata": {},
   "outputs": [
    {
     "output_type": "execute_result",
     "data": {
      "text/plain": [
       "8183208.85329535"
      ]
     },
     "metadata": {},
     "execution_count": 19
    }
   ],
   "source": [
    "environment._valuationJPY(environment._state)"
   ]
  },
  {
   "cell_type": "code",
   "execution_count": 20,
   "metadata": {},
   "outputs": [],
   "source": [
    "num_iterations = 20000 # @param {type:\"integer\"}\n",
    "\n",
    "initial_collect_steps = 100  # @param {type:\"integer\"} \n",
    "collect_steps_per_iteration = 1  # @param {type:\"integer\"}\n",
    "replay_buffer_max_length = 100000  # @param {type:\"integer\"}\n",
    "\n",
    "batch_size = 64  # @param {type:\"integer\"}\n",
    "learning_rate = 1e-3  # @param {type:\"number\"}\n",
    "log_interval = 200  # @param {type:\"integer\"}\n",
    "\n",
    "num_eval_episodes = 10  # @param {type:\"integer\"}\n",
    "eval_interval = 1000  # @param {type:\"integer\"}"
   ]
  },
  {
   "cell_type": "code",
   "execution_count": 21,
   "metadata": {},
   "outputs": [],
   "source": [
    "train_py_env = BTCTradeEnv()\n",
    "eval_py_env = BTCTradeEnv()\n",
    "train_env = tf_py_environment.TFPyEnvironment(train_py_env)\n",
    "eval_env = tf_py_environment.TFPyEnvironment(eval_py_env)"
   ]
  },
  {
   "cell_type": "code",
   "execution_count": 22,
   "metadata": {},
   "outputs": [],
   "source": [
    "fc_layer_params = (960,480,240,480,960)\n",
    "\n",
    "q_net = q_network.QNetwork(\n",
    "    train_env.observation_spec(),\n",
    "    train_env.action_spec(),\n",
    "    fc_layer_params=fc_layer_params)"
   ]
  },
  {
   "cell_type": "code",
   "execution_count": 23,
   "metadata": {},
   "outputs": [],
   "source": [
    "optimizer = tf.compat.v1.train.AdamOptimizer(learning_rate=learning_rate)\n",
    "\n",
    "train_step_counter = tf.Variable(0)\n",
    "\n",
    "agent = dqn_agent.DqnAgent(\n",
    "    train_env.time_step_spec(),\n",
    "    train_env.action_spec(),\n",
    "    q_network=q_net,\n",
    "    optimizer=optimizer,\n",
    "    td_errors_loss_fn=common.element_wise_squared_loss,\n",
    "    train_step_counter=train_step_counter)\n",
    "\n",
    "agent.initialize()"
   ]
  },
  {
   "cell_type": "code",
   "execution_count": 24,
   "metadata": {},
   "outputs": [],
   "source": [
    "eval_policy = agent.policy\n",
    "collect_policy = agent.collect_policy\n",
    "random_policy = random_tf_policy.RandomTFPolicy(train_env.time_step_spec(),\n",
    "                                                train_env.action_spec())"
   ]
  },
  {
   "cell_type": "code",
   "execution_count": 25,
   "metadata": {},
   "outputs": [],
   "source": [
    "def compute_avg_return(environment, policy, num_episodes=10):\n",
    "\n",
    "  total_return = 0.0\n",
    "  for _ in range(num_episodes):\n",
    "\n",
    "    time_step = environment.reset()\n",
    "    episode_return = 0.0\n",
    "\n",
    "    while not time_step.is_last():\n",
    "      action_step = policy.action(time_step)\n",
    "      time_step = environment.step(action_step.action)\n",
    "      episode_return += time_step.reward\n",
    "    total_return += episode_return\n",
    "\n",
    "  avg_return = total_return / num_episodes\n",
    "  return avg_return.numpy()[0]"
   ]
  },
  {
   "cell_type": "code",
   "execution_count": 26,
   "metadata": {},
   "outputs": [
    {
     "output_type": "error",
     "ename": "KeyboardInterrupt",
     "evalue": "",
     "traceback": [
      "\u001b[1;31m---------------------------------------------------------------------------\u001b[0m",
      "\u001b[1;31mKeyboardInterrupt\u001b[0m                         Traceback (most recent call last)",
      "\u001b[1;32m<ipython-input-26-3b7f8579967a>\u001b[0m in \u001b[0;36m<module>\u001b[1;34m\u001b[0m\n\u001b[1;32m----> 1\u001b[1;33m \u001b[0mcompute_avg_return\u001b[0m\u001b[1;33m(\u001b[0m\u001b[0meval_env\u001b[0m\u001b[1;33m,\u001b[0m \u001b[0mrandom_policy\u001b[0m\u001b[1;33m,\u001b[0m \u001b[0mnum_eval_episodes\u001b[0m\u001b[1;33m)\u001b[0m\u001b[1;33m\u001b[0m\u001b[1;33m\u001b[0m\u001b[0m\n\u001b[0m",
      "\u001b[1;32m<ipython-input-25-db5feda33c12>\u001b[0m in \u001b[0;36mcompute_avg_return\u001b[1;34m(environment, policy, num_episodes)\u001b[0m\n\u001b[0;32m      8\u001b[0m \u001b[1;33m\u001b[0m\u001b[0m\n\u001b[0;32m      9\u001b[0m     \u001b[1;32mwhile\u001b[0m \u001b[1;32mnot\u001b[0m \u001b[0mtime_step\u001b[0m\u001b[1;33m.\u001b[0m\u001b[0mis_last\u001b[0m\u001b[1;33m(\u001b[0m\u001b[1;33m)\u001b[0m\u001b[1;33m:\u001b[0m\u001b[1;33m\u001b[0m\u001b[1;33m\u001b[0m\u001b[0m\n\u001b[1;32m---> 10\u001b[1;33m       \u001b[0maction_step\u001b[0m \u001b[1;33m=\u001b[0m \u001b[0mpolicy\u001b[0m\u001b[1;33m.\u001b[0m\u001b[0maction\u001b[0m\u001b[1;33m(\u001b[0m\u001b[0mtime_step\u001b[0m\u001b[1;33m)\u001b[0m\u001b[1;33m\u001b[0m\u001b[1;33m\u001b[0m\u001b[0m\n\u001b[0m\u001b[0;32m     11\u001b[0m       \u001b[0mtime_step\u001b[0m \u001b[1;33m=\u001b[0m \u001b[0menvironment\u001b[0m\u001b[1;33m.\u001b[0m\u001b[0mstep\u001b[0m\u001b[1;33m(\u001b[0m\u001b[0maction_step\u001b[0m\u001b[1;33m.\u001b[0m\u001b[0maction\u001b[0m\u001b[1;33m)\u001b[0m\u001b[1;33m\u001b[0m\u001b[1;33m\u001b[0m\u001b[0m\n\u001b[0;32m     12\u001b[0m       \u001b[0mepisode_return\u001b[0m \u001b[1;33m+=\u001b[0m \u001b[0mtime_step\u001b[0m\u001b[1;33m.\u001b[0m\u001b[0mreward\u001b[0m\u001b[1;33m\u001b[0m\u001b[1;33m\u001b[0m\u001b[0m\n",
      "\u001b[1;32m~\\AppData\\Roaming\\Python\\Python38\\site-packages\\tf_agents\\policies\\tf_policy.py\u001b[0m in \u001b[0;36maction\u001b[1;34m(self, time_step, policy_state, seed)\u001b[0m\n\u001b[0;32m    322\u001b[0m     \u001b[1;32mif\u001b[0m \u001b[0mself\u001b[0m\u001b[1;33m.\u001b[0m\u001b[0m_automatic_state_reset\u001b[0m\u001b[1;33m:\u001b[0m\u001b[1;33m\u001b[0m\u001b[1;33m\u001b[0m\u001b[0m\n\u001b[0;32m    323\u001b[0m       \u001b[0mpolicy_state\u001b[0m \u001b[1;33m=\u001b[0m \u001b[0mself\u001b[0m\u001b[1;33m.\u001b[0m\u001b[0m_maybe_reset_state\u001b[0m\u001b[1;33m(\u001b[0m\u001b[0mtime_step\u001b[0m\u001b[1;33m,\u001b[0m \u001b[0mpolicy_state\u001b[0m\u001b[1;33m)\u001b[0m\u001b[1;33m\u001b[0m\u001b[1;33m\u001b[0m\u001b[0m\n\u001b[1;32m--> 324\u001b[1;33m     \u001b[0mstep\u001b[0m \u001b[1;33m=\u001b[0m \u001b[0maction_fn\u001b[0m\u001b[1;33m(\u001b[0m\u001b[0mtime_step\u001b[0m\u001b[1;33m=\u001b[0m\u001b[0mtime_step\u001b[0m\u001b[1;33m,\u001b[0m \u001b[0mpolicy_state\u001b[0m\u001b[1;33m=\u001b[0m\u001b[0mpolicy_state\u001b[0m\u001b[1;33m,\u001b[0m \u001b[0mseed\u001b[0m\u001b[1;33m=\u001b[0m\u001b[0mseed\u001b[0m\u001b[1;33m)\u001b[0m\u001b[1;33m\u001b[0m\u001b[1;33m\u001b[0m\u001b[0m\n\u001b[0m\u001b[0;32m    325\u001b[0m \u001b[1;33m\u001b[0m\u001b[0m\n\u001b[0;32m    326\u001b[0m     \u001b[1;32mdef\u001b[0m \u001b[0mclip_action\u001b[0m\u001b[1;33m(\u001b[0m\u001b[0maction\u001b[0m\u001b[1;33m,\u001b[0m \u001b[0maction_spec\u001b[0m\u001b[1;33m)\u001b[0m\u001b[1;33m:\u001b[0m\u001b[1;33m\u001b[0m\u001b[1;33m\u001b[0m\u001b[0m\n",
      "\u001b[1;32m~\\AppData\\Roaming\\Python\\Python38\\site-packages\\tf_agents\\utils\\common.py\u001b[0m in \u001b[0;36mwith_check_resource_vars\u001b[1;34m(*fn_args, **fn_kwargs)\u001b[0m\n\u001b[0;32m    183\u001b[0m         \u001b[1;31m# We're either in eager mode or in tf.function mode (no in-between); so\u001b[0m\u001b[1;33m\u001b[0m\u001b[1;33m\u001b[0m\u001b[1;33m\u001b[0m\u001b[0m\n\u001b[0;32m    184\u001b[0m         \u001b[1;31m# autodep-like behavior is already expected of fn.\u001b[0m\u001b[1;33m\u001b[0m\u001b[1;33m\u001b[0m\u001b[1;33m\u001b[0m\u001b[0m\n\u001b[1;32m--> 185\u001b[1;33m         \u001b[1;32mreturn\u001b[0m \u001b[0mfn\u001b[0m\u001b[1;33m(\u001b[0m\u001b[1;33m*\u001b[0m\u001b[0mfn_args\u001b[0m\u001b[1;33m,\u001b[0m \u001b[1;33m**\u001b[0m\u001b[0mfn_kwargs\u001b[0m\u001b[1;33m)\u001b[0m\u001b[1;33m\u001b[0m\u001b[1;33m\u001b[0m\u001b[0m\n\u001b[0m\u001b[0;32m    186\u001b[0m       \u001b[1;32mif\u001b[0m \u001b[1;32mnot\u001b[0m \u001b[0mresource_variables_enabled\u001b[0m\u001b[1;33m(\u001b[0m\u001b[1;33m)\u001b[0m\u001b[1;33m:\u001b[0m\u001b[1;33m\u001b[0m\u001b[1;33m\u001b[0m\u001b[0m\n\u001b[0;32m    187\u001b[0m         \u001b[1;32mraise\u001b[0m \u001b[0mRuntimeError\u001b[0m\u001b[1;33m(\u001b[0m\u001b[0mMISSING_RESOURCE_VARIABLES_ERROR\u001b[0m\u001b[1;33m)\u001b[0m\u001b[1;33m\u001b[0m\u001b[1;33m\u001b[0m\u001b[0m\n",
      "\u001b[1;32m~\\AppData\\Roaming\\Python\\Python38\\site-packages\\tf_agents\\policies\\random_tf_policy.py\u001b[0m in \u001b[0;36m_action\u001b[1;34m(self, time_step, policy_state, seed)\u001b[0m\n\u001b[0;32m    157\u001b[0m     \u001b[1;32mif\u001b[0m \u001b[0mtime_step\u001b[0m \u001b[1;32mis\u001b[0m \u001b[1;32mnot\u001b[0m \u001b[1;32mNone\u001b[0m\u001b[1;33m:\u001b[0m\u001b[1;33m\u001b[0m\u001b[1;33m\u001b[0m\u001b[0m\n\u001b[0;32m    158\u001b[0m       \u001b[1;32mwith\u001b[0m \u001b[0mtf\u001b[0m\u001b[1;33m.\u001b[0m\u001b[0mcontrol_dependencies\u001b[0m\u001b[1;33m(\u001b[0m\u001b[0mtf\u001b[0m\u001b[1;33m.\u001b[0m\u001b[0mnest\u001b[0m\u001b[1;33m.\u001b[0m\u001b[0mflatten\u001b[0m\u001b[1;33m(\u001b[0m\u001b[0mtime_step\u001b[0m\u001b[1;33m)\u001b[0m\u001b[1;33m)\u001b[0m\u001b[1;33m:\u001b[0m\u001b[1;33m\u001b[0m\u001b[1;33m\u001b[0m\u001b[0m\n\u001b[1;32m--> 159\u001b[1;33m         \u001b[0maction_\u001b[0m \u001b[1;33m=\u001b[0m \u001b[0mtf\u001b[0m\u001b[1;33m.\u001b[0m\u001b[0mnest\u001b[0m\u001b[1;33m.\u001b[0m\u001b[0mmap_structure\u001b[0m\u001b[1;33m(\u001b[0m\u001b[0mtf\u001b[0m\u001b[1;33m.\u001b[0m\u001b[0midentity\u001b[0m\u001b[1;33m,\u001b[0m \u001b[0maction_\u001b[0m\u001b[1;33m)\u001b[0m\u001b[1;33m\u001b[0m\u001b[1;33m\u001b[0m\u001b[0m\n\u001b[0m\u001b[0;32m    160\u001b[0m \u001b[1;33m\u001b[0m\u001b[0m\n\u001b[0;32m    161\u001b[0m     \u001b[1;32mif\u001b[0m \u001b[0mself\u001b[0m\u001b[1;33m.\u001b[0m\u001b[0memit_log_probability\u001b[0m\u001b[1;33m:\u001b[0m\u001b[1;33m\u001b[0m\u001b[1;33m\u001b[0m\u001b[0m\n",
      "\u001b[1;32m~\\anaconda3\\lib\\site-packages\\tensorflow\\python\\util\\nest.py\u001b[0m in \u001b[0;36mmap_structure\u001b[1;34m(func, *structure, **kwargs)\u001b[0m\n\u001b[0;32m    633\u001b[0m \u001b[1;33m\u001b[0m\u001b[0m\n\u001b[0;32m    634\u001b[0m   return pack_sequence_as(\n\u001b[1;32m--> 635\u001b[1;33m       \u001b[0mstructure\u001b[0m\u001b[1;33m[\u001b[0m\u001b[1;36m0\u001b[0m\u001b[1;33m]\u001b[0m\u001b[1;33m,\u001b[0m \u001b[1;33m[\u001b[0m\u001b[0mfunc\u001b[0m\u001b[1;33m(\u001b[0m\u001b[1;33m*\u001b[0m\u001b[0mx\u001b[0m\u001b[1;33m)\u001b[0m \u001b[1;32mfor\u001b[0m \u001b[0mx\u001b[0m \u001b[1;32min\u001b[0m \u001b[0mentries\u001b[0m\u001b[1;33m]\u001b[0m\u001b[1;33m,\u001b[0m\u001b[1;33m\u001b[0m\u001b[1;33m\u001b[0m\u001b[0m\n\u001b[0m\u001b[0;32m    636\u001b[0m       expand_composites=expand_composites)\n\u001b[0;32m    637\u001b[0m \u001b[1;33m\u001b[0m\u001b[0m\n",
      "\u001b[1;32m~\\anaconda3\\lib\\site-packages\\tensorflow\\python\\util\\nest.py\u001b[0m in \u001b[0;36m<listcomp>\u001b[1;34m(.0)\u001b[0m\n\u001b[0;32m    633\u001b[0m \u001b[1;33m\u001b[0m\u001b[0m\n\u001b[0;32m    634\u001b[0m   return pack_sequence_as(\n\u001b[1;32m--> 635\u001b[1;33m       \u001b[0mstructure\u001b[0m\u001b[1;33m[\u001b[0m\u001b[1;36m0\u001b[0m\u001b[1;33m]\u001b[0m\u001b[1;33m,\u001b[0m \u001b[1;33m[\u001b[0m\u001b[0mfunc\u001b[0m\u001b[1;33m(\u001b[0m\u001b[1;33m*\u001b[0m\u001b[0mx\u001b[0m\u001b[1;33m)\u001b[0m \u001b[1;32mfor\u001b[0m \u001b[0mx\u001b[0m \u001b[1;32min\u001b[0m \u001b[0mentries\u001b[0m\u001b[1;33m]\u001b[0m\u001b[1;33m,\u001b[0m\u001b[1;33m\u001b[0m\u001b[1;33m\u001b[0m\u001b[0m\n\u001b[0m\u001b[0;32m    636\u001b[0m       expand_composites=expand_composites)\n\u001b[0;32m    637\u001b[0m \u001b[1;33m\u001b[0m\u001b[0m\n",
      "\u001b[1;32m~\\anaconda3\\lib\\site-packages\\tensorflow\\python\\util\\dispatch.py\u001b[0m in \u001b[0;36mwrapper\u001b[1;34m(*args, **kwargs)\u001b[0m\n\u001b[0;32m    199\u001b[0m     \u001b[1;34m\"\"\"Call target, and fall back on dispatchers if there is a TypeError.\"\"\"\u001b[0m\u001b[1;33m\u001b[0m\u001b[1;33m\u001b[0m\u001b[0m\n\u001b[0;32m    200\u001b[0m     \u001b[1;32mtry\u001b[0m\u001b[1;33m:\u001b[0m\u001b[1;33m\u001b[0m\u001b[1;33m\u001b[0m\u001b[0m\n\u001b[1;32m--> 201\u001b[1;33m       \u001b[1;32mreturn\u001b[0m \u001b[0mtarget\u001b[0m\u001b[1;33m(\u001b[0m\u001b[1;33m*\u001b[0m\u001b[0margs\u001b[0m\u001b[1;33m,\u001b[0m \u001b[1;33m**\u001b[0m\u001b[0mkwargs\u001b[0m\u001b[1;33m)\u001b[0m\u001b[1;33m\u001b[0m\u001b[1;33m\u001b[0m\u001b[0m\n\u001b[0m\u001b[0;32m    202\u001b[0m     \u001b[1;32mexcept\u001b[0m \u001b[1;33m(\u001b[0m\u001b[0mTypeError\u001b[0m\u001b[1;33m,\u001b[0m \u001b[0mValueError\u001b[0m\u001b[1;33m)\u001b[0m\u001b[1;33m:\u001b[0m\u001b[1;33m\u001b[0m\u001b[1;33m\u001b[0m\u001b[0m\n\u001b[0;32m    203\u001b[0m       \u001b[1;31m# Note: convert_to_eager_tensor currently raises a ValueError, not a\u001b[0m\u001b[1;33m\u001b[0m\u001b[1;33m\u001b[0m\u001b[1;33m\u001b[0m\u001b[0m\n",
      "\u001b[1;32m~\\anaconda3\\lib\\site-packages\\tensorflow\\python\\ops\\array_ops.py\u001b[0m in \u001b[0;36midentity\u001b[1;34m(input, name)\u001b[0m\n\u001b[0;32m    285\u001b[0m     \u001b[1;31m# variables. Variables have correct handle data when graph building.\u001b[0m\u001b[1;33m\u001b[0m\u001b[1;33m\u001b[0m\u001b[1;33m\u001b[0m\u001b[0m\n\u001b[0;32m    286\u001b[0m     \u001b[0minput\u001b[0m \u001b[1;33m=\u001b[0m \u001b[0mops\u001b[0m\u001b[1;33m.\u001b[0m\u001b[0mconvert_to_tensor\u001b[0m\u001b[1;33m(\u001b[0m\u001b[0minput\u001b[0m\u001b[1;33m)\u001b[0m\u001b[1;33m\u001b[0m\u001b[1;33m\u001b[0m\u001b[0m\n\u001b[1;32m--> 287\u001b[1;33m   \u001b[0mret\u001b[0m \u001b[1;33m=\u001b[0m \u001b[0mgen_array_ops\u001b[0m\u001b[1;33m.\u001b[0m\u001b[0midentity\u001b[0m\u001b[1;33m(\u001b[0m\u001b[0minput\u001b[0m\u001b[1;33m,\u001b[0m \u001b[0mname\u001b[0m\u001b[1;33m=\u001b[0m\u001b[0mname\u001b[0m\u001b[1;33m)\u001b[0m\u001b[1;33m\u001b[0m\u001b[1;33m\u001b[0m\u001b[0m\n\u001b[0m\u001b[0;32m    288\u001b[0m   \u001b[1;31m# Propagate handle data for happier shape inference for resource variables.\u001b[0m\u001b[1;33m\u001b[0m\u001b[1;33m\u001b[0m\u001b[1;33m\u001b[0m\u001b[0m\n\u001b[0;32m    289\u001b[0m   \u001b[1;32mif\u001b[0m \u001b[0mhasattr\u001b[0m\u001b[1;33m(\u001b[0m\u001b[0minput\u001b[0m\u001b[1;33m,\u001b[0m \u001b[1;34m\"_handle_data\"\u001b[0m\u001b[1;33m)\u001b[0m\u001b[1;33m:\u001b[0m\u001b[1;33m\u001b[0m\u001b[1;33m\u001b[0m\u001b[0m\n",
      "\u001b[1;32m~\\anaconda3\\lib\\site-packages\\tensorflow\\python\\ops\\gen_array_ops.py\u001b[0m in \u001b[0;36midentity\u001b[1;34m(input, name)\u001b[0m\n\u001b[0;32m   3985\u001b[0m   \u001b[1;32mif\u001b[0m \u001b[0mtld\u001b[0m\u001b[1;33m.\u001b[0m\u001b[0mis_eager\u001b[0m\u001b[1;33m:\u001b[0m\u001b[1;33m\u001b[0m\u001b[1;33m\u001b[0m\u001b[0m\n\u001b[0;32m   3986\u001b[0m     \u001b[1;32mtry\u001b[0m\u001b[1;33m:\u001b[0m\u001b[1;33m\u001b[0m\u001b[1;33m\u001b[0m\u001b[0m\n\u001b[1;32m-> 3987\u001b[1;33m       _result = pywrap_tfe.TFE_Py_FastPathExecute(\n\u001b[0m\u001b[0;32m   3988\u001b[0m         \u001b[0m_ctx\u001b[0m\u001b[1;33m.\u001b[0m\u001b[0m_context_handle\u001b[0m\u001b[1;33m,\u001b[0m \u001b[0mtld\u001b[0m\u001b[1;33m.\u001b[0m\u001b[0mdevice_name\u001b[0m\u001b[1;33m,\u001b[0m \u001b[1;34m\"Identity\"\u001b[0m\u001b[1;33m,\u001b[0m \u001b[0mname\u001b[0m\u001b[1;33m,\u001b[0m\u001b[1;33m\u001b[0m\u001b[1;33m\u001b[0m\u001b[0m\n\u001b[0;32m   3989\u001b[0m         tld.op_callbacks, input)\n",
      "\u001b[1;31mKeyboardInterrupt\u001b[0m: "
     ]
    }
   ],
   "source": [
    "compute_avg_return(eval_env, random_policy, num_eval_episodes)"
   ]
  },
  {
   "cell_type": "code",
   "execution_count": null,
   "metadata": {},
   "outputs": [],
   "source": [
    "replay_buffer = tf_uniform_replay_buffer.TFUniformReplayBuffer(\n",
    "    data_spec=agent.collect_data_spec,\n",
    "    batch_size=train_env.batch_size,\n",
    "    max_length=replay_buffer_max_length)"
   ]
  },
  {
   "cell_type": "code",
   "execution_count": null,
   "metadata": {},
   "outputs": [],
   "source": [
    "agent.collect_data_spec"
   ]
  },
  {
   "cell_type": "code",
   "execution_count": null,
   "metadata": {},
   "outputs": [],
   "source": [
    "agent.collect_data_spec._fields"
   ]
  },
  {
   "cell_type": "code",
   "execution_count": null,
   "metadata": {},
   "outputs": [],
   "source": [
    "def collect_step(environment, policy, buffer):\n",
    "  time_step = environment.current_time_step()\n",
    "  action_step = policy.action(time_step)\n",
    "  next_time_step = environment.step(action_step.action)\n",
    "  traj = trajectory.from_transition(time_step, action_step, next_time_step)\n",
    "\n",
    "  # Add trajectory to the replay buffer\n",
    "  buffer.add_batch(traj)\n",
    "\n",
    "def collect_data(env, policy, buffer, steps):\n",
    "  for _ in range(steps):\n",
    "    collect_step(env, policy, buffer)\n",
    "\n",
    "collect_data(train_env, random_policy, replay_buffer, initial_collect_steps)\n"
   ]
  },
  {
   "cell_type": "code",
   "execution_count": null,
   "metadata": {},
   "outputs": [],
   "source": [
    "dataset = replay_buffer.as_dataset(\n",
    "    num_parallel_calls=3, \n",
    "    sample_batch_size=batch_size, \n",
    "    num_steps=2,\n",
    "    single_deterministic_pass=False).prefetch(3)"
   ]
  },
  {
   "cell_type": "code",
   "execution_count": null,
   "metadata": {},
   "outputs": [],
   "source": [
    "iterator = iter(dataset)\n",
    "\n",
    "print(iterator)"
   ]
  },
  {
   "cell_type": "code",
   "execution_count": null,
   "metadata": {},
   "outputs": [],
   "source": [
    "try:\n",
    "  %%time\n",
    "except:\n",
    "  pass\n",
    "\n",
    "# (Optional) Optimize by wrapping some of the code in a graph using TF function.\n",
    "agent.train = common.function(agent.train)\n",
    "\n",
    "# Reset the train step\n",
    "agent.train_step_counter.assign(0)\n",
    "\n",
    "# Evaluate the agent's policy once before training.\n",
    "avg_return = compute_avg_return(eval_env, agent.policy, num_eval_episodes)\n",
    "returns = [avg_return]\n",
    "\n",
    "for _ in range(num_iterations):\n",
    "\n",
    "  # Collect a few steps using collect_policy and save to the replay buffer.\n",
    "  collect_data(train_env, agent.collect_policy, replay_buffer, collect_steps_per_iteration)\n",
    "\n",
    "  # Sample a batch of data from the buffer and update the agent's network.\n",
    "  experience, unused_info = next(iterator)\n",
    "  train_loss = agent.train(experience).loss\n",
    "\n",
    "  step = agent.train_step_counter.numpy()\n",
    "\n",
    "  if step % log_interval == 0:\n",
    "    print('step = {0}: loss = {1}'.format(step, train_loss))\n",
    "\n",
    "  if step % eval_interval == 0:\n",
    "    avg_return = compute_avg_return(eval_env, agent.policy, num_eval_episodes)\n",
    "    print('step = {0}: Average Return = {1}'.format(step, avg_return))\n",
    "    returns.append(avg_return)"
   ]
  },
  {
   "cell_type": "code",
   "execution_count": null,
   "metadata": {},
   "outputs": [],
   "source": [
    "iterations = range(0, num_iterations + 1, eval_interval)\n",
    "plt.plot(iterations, returns)\n",
    "plt.ylabel('Average Return')\n",
    "plt.xlabel('Iterations')\n",
    "# plt.ylim(top=250)"
   ]
  },
  {
   "cell_type": "code",
   "execution_count": null,
   "metadata": {},
   "outputs": [],
   "source": []
  }
 ],
 "metadata": {
  "kernelspec": {
   "display_name": "Python 3",
   "language": "python",
   "name": "python3"
  },
  "language_info": {
   "codemirror_mode": {
    "name": "ipython",
    "version": 3
   },
   "file_extension": ".py",
   "mimetype": "text/x-python",
   "name": "python",
   "nbconvert_exporter": "python",
   "pygments_lexer": "ipython3",
   "version": "3.8.3-final"
  }
 },
 "nbformat": 4,
 "nbformat_minor": 4
}